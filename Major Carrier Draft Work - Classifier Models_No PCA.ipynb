{
 "cells": [
  {
   "cell_type": "code",
   "execution_count": 1,
   "metadata": {
    "collapsed": true
   },
   "outputs": [],
   "source": [
    "import pandas as pd\n",
    "import numpy as np\n",
    "import matplotlib.pyplot as plt\n",
    "%matplotlib inline\n",
    "import scipy\n",
    "import seaborn as sns"
   ]
  },
  {
   "cell_type": "code",
   "execution_count": 2,
   "metadata": {
    "collapsed": true
   },
   "outputs": [],
   "source": [
    "df_2015 = pd.read_csv('2015.csv')\n",
    "df_2016 = pd.read_csv('2016.csv')\n",
    "frames = [df_2015, df_2016]\n",
    "df = pd.concat(frames)"
   ]
  },
  {
   "cell_type": "code",
   "execution_count": 3,
   "metadata": {},
   "outputs": [
    {
     "name": "stdout",
     "output_type": "stream",
     "text": [
      "Number of Features:  46\n",
      "Number of Observations:  752559\n"
     ]
    }
   ],
   "source": [
    "print('Number of Features: ', len(df.columns))\n",
    "print('Number of Observations: ', len(df))"
   ]
  },
  {
   "cell_type": "code",
   "execution_count": 4,
   "metadata": {},
   "outputs": [
    {
     "data": {
      "text/plain": [
       "Index(['DEPARTURES_SCHEDULED', 'DEPARTURES_PERFORMED', 'PAYLOAD', 'SEATS',\n",
       "       'PASSENGERS', 'FREIGHT', 'MAIL', 'DISTANCE', 'RAMP_TO_RAMP', 'AIR_TIME',\n",
       "       'UNIQUE_CARRIER', 'AIRLINE_ID', 'UNIQUE_CARRIER_NAME',\n",
       "       'UNIQUE_CARRIER_ENTITY', 'REGION', 'CARRIER', 'CARRIER_NAME',\n",
       "       'CARRIER_GROUP', 'CARRIER_GROUP_NEW', 'ORIGIN_AIRPORT_ID',\n",
       "       'ORIGIN_AIRPORT_SEQ_ID', 'ORIGIN_CITY_MARKET_ID', 'ORIGIN',\n",
       "       'ORIGIN_CITY_NAME', 'ORIGIN_STATE_ABR', 'ORIGIN_STATE_FIPS',\n",
       "       'ORIGIN_STATE_NM', 'ORIGIN_WAC', 'DEST_AIRPORT_ID',\n",
       "       'DEST_AIRPORT_SEQ_ID', 'DEST_CITY_MARKET_ID', 'DEST', 'DEST_CITY_NAME',\n",
       "       'DEST_STATE_ABR', 'DEST_STATE_FIPS', 'DEST_STATE_NM', 'DEST_WAC',\n",
       "       'AIRCRAFT_GROUP', 'AIRCRAFT_TYPE', 'AIRCRAFT_CONFIG', 'YEAR', 'QUARTER',\n",
       "       'MONTH', 'DISTANCE_GROUP', 'CLASS', 'Unnamed: 45'],\n",
       "      dtype='object')"
      ]
     },
     "execution_count": 4,
     "metadata": {},
     "output_type": "execute_result"
    }
   ],
   "source": [
    "df.columns"
   ]
  },
  {
   "cell_type": "code",
   "execution_count": 5,
   "metadata": {
    "collapsed": true
   },
   "outputs": [],
   "source": [
    "# These features are redundant, so we are going to drop them\n",
    "df = df.drop(['UNIQUE_CARRIER', 'AIRLINE_ID', 'UNIQUE_CARRIER_NAME', 'CARRIER',  'ORIGIN_STATE_ABR', \n",
    "             'ORIGIN_STATE_FIPS', 'ORIGIN_WAC', 'DEST_STATE_ABR', 'DEST_STATE_FIPS', 'DEST_WAC',\n",
    "             'DEST_CITY_MARKET_ID', 'DEST_AIRPORT_ID', 'DEST_AIRPORT_SEQ_ID','ORIGIN_CITY_MARKET_ID', \n",
    "              'ORIGIN_AIRPORT_ID', 'ORIGIN_AIRPORT_SEQ_ID'], axis=1)"
   ]
  },
  {
   "cell_type": "code",
   "execution_count": 6,
   "metadata": {
    "collapsed": true
   },
   "outputs": [],
   "source": [
    "# Create new features: passenger_miles, seat_miles, load_factor, per_per\n",
    "df['passenger_miles'] = df['PASSENGERS'] * df['DISTANCE']\n",
    "df['seat_miles'] = df['SEATS'] * df['DISTANCE']\n",
    "df['load_factor'] = df['passenger_miles'] / df['seat_miles']\n",
    "df['per_cap'] = df['PASSENGERS'] / df['SEATS']"
   ]
  },
  {
   "cell_type": "code",
   "execution_count": 7,
   "metadata": {
    "collapsed": true
   },
   "outputs": [],
   "source": [
    "# Drop Unnamed: 45\n",
    "df = df.drop('Unnamed: 45', axis=1)\n",
    "\n",
    "# Drop INF observations\n",
    "df = df[df != np.inf]"
   ]
  },
  {
   "cell_type": "code",
   "execution_count": 8,
   "metadata": {
    "collapsed": true
   },
   "outputs": [],
   "source": [
    "# Also need to drop NaN values\n",
    "df = df.dropna()\n",
    "\n",
    "# We are interested in looking at passengers and load_factor, so lets drop all observations where there are no seats\n",
    "# and there are no passengers\n",
    "\n",
    "df = df[df.seat_miles !=0]\n",
    "df = df[df.SEATS != 0]\n",
    "df = df[df.PASSENGERS !=0]"
   ]
  },
  {
   "cell_type": "code",
   "execution_count": 9,
   "metadata": {
    "collapsed": true
   },
   "outputs": [],
   "source": [
    "df = df[df.CARRIER_GROUP_NEW == 3]"
   ]
  },
  {
   "cell_type": "code",
   "execution_count": 10,
   "metadata": {},
   "outputs": [
    {
     "data": {
      "text/plain": [
       "array(['Frontier Airlines Inc.', 'Southwest Airlines Co.',\n",
       "       'Atlas Air Inc.', 'Alaska Airlines Inc.', 'Delta Air Lines Inc.',\n",
       "       'Envoy Air', 'US Airways Inc.', 'Virgin America',\n",
       "       'Hawaiian Airlines Inc.', 'United Air Lines Inc.',\n",
       "       'JetBlue Airways', 'American Airlines Inc.',\n",
       "       'SkyWest Airlines Inc.', 'ExpressJet Airlines Inc.',\n",
       "       'Spirit Air Lines', 'Allegiant Air'], dtype=object)"
      ]
     },
     "execution_count": 10,
     "metadata": {},
     "output_type": "execute_result"
    }
   ],
   "source": [
    "df.CARRIER_NAME.unique()"
   ]
  },
  {
   "cell_type": "code",
   "execution_count": 11,
   "metadata": {},
   "outputs": [
    {
     "data": {
      "text/plain": [
       "16"
      ]
     },
     "execution_count": 11,
     "metadata": {},
     "output_type": "execute_result"
    }
   ],
   "source": [
    "len(df.CARRIER_NAME.unique())"
   ]
  },
  {
   "cell_type": "code",
   "execution_count": 12,
   "metadata": {},
   "outputs": [
    {
     "name": "stdout",
     "output_type": "stream",
     "text": [
      "Number of Features:  33\n",
      "Number of Observations:  378382\n"
     ]
    }
   ],
   "source": [
    "# Lets look at how many rows and observations there are now\n",
    "print('Number of Features: ', len(df.columns))\n",
    "print('Number of Observations: ', len(df))"
   ]
  },
  {
   "cell_type": "markdown",
   "metadata": {
    "collapsed": true
   },
   "source": [
    "# Changes Made After Exploring the Variables"
   ]
  },
  {
   "cell_type": "code",
   "execution_count": 13,
   "metadata": {
    "collapsed": true
   },
   "outputs": [],
   "source": [
    "# Lets remove the obvious outliers\n",
    "df = df[df.PASSENGERS < 15000]\n",
    "df = df[df.load_factor < 1.0000001]\n",
    "df = df[df.DEPARTURES_SCHEDULED < 125]\n",
    "df = df[df.DEPARTURES_PERFORMED < 125]\n",
    "df= df[df.PAYLOAD < 4000000]\n",
    "df = df[df.SEATS < 10000]\n",
    "df = df[df.RAMP_TO_RAMP < 15000]\n",
    "df = df[df.DISTANCE < 3000]"
   ]
  },
  {
   "cell_type": "code",
   "execution_count": 14,
   "metadata": {
    "collapsed": true
   },
   "outputs": [],
   "source": [
    "# We are only interested in the domestic flights for the purposes of this project\n",
    "df = df[df.REGION == 'D']\n",
    "\n",
    "# Even though we are examining continuou variables in this notebook, I am going to drop all cargo/non-passenger\n",
    "# observations by 'CLASS' and see how that effects the distributions of load_factor and per_cap. \n",
    "df = df[df.CLASS != 'G']\n",
    "df = df[df.CLASS != 'P']\n",
    "df = df[df.CLASS != 'L']\n",
    "\n",
    "# I am also going to remove all non-passenger or mixed use aircraft configurations so that only passenger\n",
    "# configurations remain\n",
    "df = df[df.CLASS != '2']\n",
    "df = df[df.CLASS != '3']\n",
    "df = df[df.CLASS != '4']\n",
    "\n",
    "# For the purposes of this project, we are only interested in planes that were meant to carry passengers.\n",
    "df = df[df.AIRCRAFT_CONFIG == 1]"
   ]
  },
  {
   "cell_type": "code",
   "execution_count": 15,
   "metadata": {
    "collapsed": true
   },
   "outputs": [],
   "source": [
    "bins = [0, 0.745833, 0.847672, 0.914601, 1.000000]\n",
    "group_names = ['Low', 'Medium', 'High', 'Very High']\n",
    "\n",
    "categories = pd.cut(df['load_factor'], bins, labels=group_names)\n",
    "df['loadfactor_level'] = pd.cut(df['load_factor'], bins, labels=group_names)\n",
    "df['loadfactor_binned'] = pd.cut(df['load_factor'], bins)"
   ]
  },
  {
   "cell_type": "code",
   "execution_count": 16,
   "metadata": {},
   "outputs": [
    {
     "data": {
      "text/plain": [
       "Medium       80798\n",
       "High         80797\n",
       "Very High    80796\n",
       "Low          80796\n",
       "Name: loadfactor_level, dtype: int64"
      ]
     },
     "execution_count": 16,
     "metadata": {},
     "output_type": "execute_result"
    }
   ],
   "source": [
    "pd.value_counts(df['loadfactor_level'])"
   ]
  },
  {
   "cell_type": "code",
   "execution_count": 17,
   "metadata": {},
   "outputs": [
    {
     "data": {
      "text/html": [
       "<div>\n",
       "<style>\n",
       "    .dataframe thead tr:only-child th {\n",
       "        text-align: right;\n",
       "    }\n",
       "\n",
       "    .dataframe thead th {\n",
       "        text-align: left;\n",
       "    }\n",
       "\n",
       "    .dataframe tbody tr th {\n",
       "        vertical-align: top;\n",
       "    }\n",
       "</style>\n",
       "<table border=\"1\" class=\"dataframe\">\n",
       "  <thead>\n",
       "    <tr style=\"text-align: right;\">\n",
       "      <th></th>\n",
       "      <th>DEPARTURES_SCHEDULED</th>\n",
       "      <th>DEPARTURES_PERFORMED</th>\n",
       "      <th>PAYLOAD</th>\n",
       "      <th>SEATS</th>\n",
       "      <th>PASSENGERS</th>\n",
       "      <th>FREIGHT</th>\n",
       "      <th>MAIL</th>\n",
       "      <th>DISTANCE</th>\n",
       "      <th>RAMP_TO_RAMP</th>\n",
       "      <th>AIR_TIME</th>\n",
       "      <th>...</th>\n",
       "      <th>passenger_miles</th>\n",
       "      <th>seat_miles</th>\n",
       "      <th>load_factor</th>\n",
       "      <th>per_cap</th>\n",
       "      <th>loadfactor_level</th>\n",
       "      <th>loadfactor_binned</th>\n",
       "      <th>High</th>\n",
       "      <th>Low</th>\n",
       "      <th>Medium</th>\n",
       "      <th>Very High</th>\n",
       "    </tr>\n",
       "  </thead>\n",
       "  <tbody>\n",
       "    <tr>\n",
       "      <th>1858</th>\n",
       "      <td>0.0</td>\n",
       "      <td>1.0</td>\n",
       "      <td>32200.0</td>\n",
       "      <td>137.0</td>\n",
       "      <td>130.0</td>\n",
       "      <td>74.0</td>\n",
       "      <td>0.0</td>\n",
       "      <td>619.0</td>\n",
       "      <td>121.0</td>\n",
       "      <td>107.0</td>\n",
       "      <td>...</td>\n",
       "      <td>80470.0</td>\n",
       "      <td>84803.0</td>\n",
       "      <td>0.948905</td>\n",
       "      <td>0.948905</td>\n",
       "      <td>Very High</td>\n",
       "      <td>(0.915, 1.0]</td>\n",
       "      <td>0</td>\n",
       "      <td>0</td>\n",
       "      <td>0</td>\n",
       "      <td>1</td>\n",
       "    </tr>\n",
       "    <tr>\n",
       "      <th>1859</th>\n",
       "      <td>0.0</td>\n",
       "      <td>1.0</td>\n",
       "      <td>43400.0</td>\n",
       "      <td>175.0</td>\n",
       "      <td>171.0</td>\n",
       "      <td>281.0</td>\n",
       "      <td>0.0</td>\n",
       "      <td>349.0</td>\n",
       "      <td>65.0</td>\n",
       "      <td>52.0</td>\n",
       "      <td>...</td>\n",
       "      <td>59679.0</td>\n",
       "      <td>61075.0</td>\n",
       "      <td>0.977143</td>\n",
       "      <td>0.977143</td>\n",
       "      <td>Very High</td>\n",
       "      <td>(0.915, 1.0]</td>\n",
       "      <td>0</td>\n",
       "      <td>0</td>\n",
       "      <td>0</td>\n",
       "      <td>1</td>\n",
       "    </tr>\n",
       "    <tr>\n",
       "      <th>1860</th>\n",
       "      <td>0.0</td>\n",
       "      <td>1.0</td>\n",
       "      <td>34600.0</td>\n",
       "      <td>143.0</td>\n",
       "      <td>84.0</td>\n",
       "      <td>4.0</td>\n",
       "      <td>0.0</td>\n",
       "      <td>332.0</td>\n",
       "      <td>57.0</td>\n",
       "      <td>45.0</td>\n",
       "      <td>...</td>\n",
       "      <td>27888.0</td>\n",
       "      <td>47476.0</td>\n",
       "      <td>0.587413</td>\n",
       "      <td>0.587413</td>\n",
       "      <td>Low</td>\n",
       "      <td>(0.0, 0.746]</td>\n",
       "      <td>0</td>\n",
       "      <td>1</td>\n",
       "      <td>0</td>\n",
       "      <td>0</td>\n",
       "    </tr>\n",
       "    <tr>\n",
       "      <th>1861</th>\n",
       "      <td>0.0</td>\n",
       "      <td>1.0</td>\n",
       "      <td>34600.0</td>\n",
       "      <td>143.0</td>\n",
       "      <td>131.0</td>\n",
       "      <td>0.0</td>\n",
       "      <td>0.0</td>\n",
       "      <td>1486.0</td>\n",
       "      <td>229.0</td>\n",
       "      <td>211.0</td>\n",
       "      <td>...</td>\n",
       "      <td>194666.0</td>\n",
       "      <td>212498.0</td>\n",
       "      <td>0.916084</td>\n",
       "      <td>0.916084</td>\n",
       "      <td>Very High</td>\n",
       "      <td>(0.915, 1.0]</td>\n",
       "      <td>0</td>\n",
       "      <td>0</td>\n",
       "      <td>0</td>\n",
       "      <td>1</td>\n",
       "    </tr>\n",
       "    <tr>\n",
       "      <th>1862</th>\n",
       "      <td>0.0</td>\n",
       "      <td>1.0</td>\n",
       "      <td>34600.0</td>\n",
       "      <td>143.0</td>\n",
       "      <td>73.0</td>\n",
       "      <td>267.0</td>\n",
       "      <td>0.0</td>\n",
       "      <td>609.0</td>\n",
       "      <td>149.0</td>\n",
       "      <td>138.0</td>\n",
       "      <td>...</td>\n",
       "      <td>44457.0</td>\n",
       "      <td>87087.0</td>\n",
       "      <td>0.510490</td>\n",
       "      <td>0.510490</td>\n",
       "      <td>Low</td>\n",
       "      <td>(0.0, 0.746]</td>\n",
       "      <td>0</td>\n",
       "      <td>1</td>\n",
       "      <td>0</td>\n",
       "      <td>0</td>\n",
       "    </tr>\n",
       "  </tbody>\n",
       "</table>\n",
       "<p>5 rows × 39 columns</p>\n",
       "</div>"
      ],
      "text/plain": [
       "      DEPARTURES_SCHEDULED  DEPARTURES_PERFORMED  PAYLOAD  SEATS  PASSENGERS  \\\n",
       "1858                   0.0                   1.0  32200.0  137.0       130.0   \n",
       "1859                   0.0                   1.0  43400.0  175.0       171.0   \n",
       "1860                   0.0                   1.0  34600.0  143.0        84.0   \n",
       "1861                   0.0                   1.0  34600.0  143.0       131.0   \n",
       "1862                   0.0                   1.0  34600.0  143.0        73.0   \n",
       "\n",
       "      FREIGHT  MAIL  DISTANCE  RAMP_TO_RAMP  AIR_TIME    ...     \\\n",
       "1858     74.0   0.0     619.0         121.0     107.0    ...      \n",
       "1859    281.0   0.0     349.0          65.0      52.0    ...      \n",
       "1860      4.0   0.0     332.0          57.0      45.0    ...      \n",
       "1861      0.0   0.0    1486.0         229.0     211.0    ...      \n",
       "1862    267.0   0.0     609.0         149.0     138.0    ...      \n",
       "\n",
       "     passenger_miles seat_miles load_factor   per_cap  loadfactor_level  \\\n",
       "1858         80470.0    84803.0    0.948905  0.948905         Very High   \n",
       "1859         59679.0    61075.0    0.977143  0.977143         Very High   \n",
       "1860         27888.0    47476.0    0.587413  0.587413               Low   \n",
       "1861        194666.0   212498.0    0.916084  0.916084         Very High   \n",
       "1862         44457.0    87087.0    0.510490  0.510490               Low   \n",
       "\n",
       "     loadfactor_binned High Low Medium Very High  \n",
       "1858      (0.915, 1.0]    0   0      0         1  \n",
       "1859      (0.915, 1.0]    0   0      0         1  \n",
       "1860      (0.0, 0.746]    0   1      0         0  \n",
       "1861      (0.915, 1.0]    0   0      0         1  \n",
       "1862      (0.0, 0.746]    0   1      0         0  \n",
       "\n",
       "[5 rows x 39 columns]"
      ]
     },
     "execution_count": 17,
     "metadata": {},
     "output_type": "execute_result"
    }
   ],
   "source": [
    "lf_dum = pd.get_dummies(df['loadfactor_level'])\n",
    "df = pd.concat([df, lf_dum], axis=1)\n",
    "df.head()"
   ]
  },
  {
   "cell_type": "code",
   "execution_count": 24,
   "metadata": {},
   "outputs": [
    {
     "name": "stdout",
     "output_type": "stream",
     "text": [
      "Number of Features:  40\n",
      "Number of Observations:  323187\n"
     ]
    }
   ],
   "source": [
    "# Lets look at how many rows and observations there are now\n",
    "print('Number of Features: ', len(df.columns))\n",
    "print('Number of Observations: ', len(df))"
   ]
  },
  {
   "cell_type": "markdown",
   "metadata": {},
   "source": [
    "# Clustering"
   ]
  },
  {
   "cell_type": "code",
   "execution_count": 18,
   "metadata": {},
   "outputs": [
    {
     "data": {
      "text/plain": [
       "Index(['DEPARTURES_SCHEDULED', 'DEPARTURES_PERFORMED', 'PAYLOAD', 'SEATS',\n",
       "       'PASSENGERS', 'FREIGHT', 'MAIL', 'DISTANCE', 'RAMP_TO_RAMP', 'AIR_TIME',\n",
       "       'UNIQUE_CARRIER_ENTITY', 'REGION', 'CARRIER_NAME', 'CARRIER_GROUP',\n",
       "       'CARRIER_GROUP_NEW', 'ORIGIN', 'ORIGIN_CITY_NAME', 'ORIGIN_STATE_NM',\n",
       "       'DEST', 'DEST_CITY_NAME', 'DEST_STATE_NM', 'AIRCRAFT_GROUP',\n",
       "       'AIRCRAFT_TYPE', 'AIRCRAFT_CONFIG', 'YEAR', 'QUARTER', 'MONTH',\n",
       "       'DISTANCE_GROUP', 'CLASS', 'passenger_miles', 'seat_miles',\n",
       "       'load_factor', 'per_cap', 'loadfactor_level', 'loadfactor_binned',\n",
       "       'High', 'Low', 'Medium', 'Very High'],\n",
       "      dtype='object')"
      ]
     },
     "execution_count": 18,
     "metadata": {},
     "output_type": "execute_result"
    }
   ],
   "source": [
    "df.columns"
   ]
  },
  {
   "cell_type": "code",
   "execution_count": 19,
   "metadata": {
    "collapsed": true
   },
   "outputs": [],
   "source": [
    "cat_var = ['UNIQUE_CARRIER_ENTITY', 'REGION', 'CARRIER_NAME', 'CARRIER_GROUP', 'CARRIER_GROUP_NEW', \n",
    "          'ORIGIN', 'ORIGIN_CITY_NAME', 'ORIGIN_STATE_NM', 'DEST', 'DEST_CITY_NAME', 'DEST_STATE_NM', \n",
    "          'AIRCRAFT_GROUP', 'AIRCRAFT_TYPE', 'AIRCRAFT_CONFIG', 'YEAR', 'QUARTER', 'MONTH', 'DISTANCE_GROUP', \n",
    "          'CLASS', 'loadfactor_level']"
   ]
  },
  {
   "cell_type": "code",
   "execution_count": 22,
   "metadata": {},
   "outputs": [
    {
     "data": {
      "image/png": "[encoded data removed]",
      "text/plain": [
       "<matplotlib.figure.Figure at 0x1109cbfd0>"
      ]
     },
     "metadata": {},
     "output_type": "display_data"
    }
   ],
   "source": [
    "# clustering dataset\n",
    "# determine k using elbow method\n",
    "from sklearn.preprocessing import LabelEncoder\n",
    "from sklearn.cluster import KMeans\n",
    "from sklearn import metrics\n",
    "from scipy.spatial.distance import cdist\n",
    "import numpy as np\n",
    "import matplotlib.pyplot as plt\n",
    " \n",
    "X = df.drop('loadfactor_binned', axis=1)\n",
    "\n",
    "# Encode the categorical features\n",
    "for each in cat_var:\n",
    "    le = LabelEncoder()\n",
    "    le_fit = le.fit(X[each])\n",
    "    le_transform = le.transform(df[each])\n",
    "    X[each] = le_transform\n",
    "\n",
    "# Based off the elbow chart, we are going to choose 3 clusters\n",
    "from sklearn.preprocessing import normalize\n",
    "from sklearn.model_selection import train_test_split\n",
    "X_norm = normalize(X)\n",
    "\n",
    "X_train, X_test = train_test_split( \n",
    "    X_norm,\n",
    "    test_size=0.9,\n",
    "    random_state=42)\n",
    "\n",
    "km = KMeans(n_clusters=3, init='k-means++')\n",
    "km_fitrans = km.fit_transform(X_norm)\n",
    "    \n",
    "# Extract cluster assignments for each data point.\n",
    "labels_1 = km.labels_\n",
    "    \n",
    "plt.hist(labels_1)\n",
    "plt.show()\n",
    "\n",
    "df['clusters'] = labels_1"
   ]
  },
  {
   "cell_type": "code",
   "execution_count": 23,
   "metadata": {},
   "outputs": [
    {
     "data": {
      "text/plain": [
       "Index(['DEPARTURES_SCHEDULED', 'DEPARTURES_PERFORMED', 'PAYLOAD', 'SEATS',\n",
       "       'PASSENGERS', 'FREIGHT', 'MAIL', 'DISTANCE', 'RAMP_TO_RAMP', 'AIR_TIME',\n",
       "       'UNIQUE_CARRIER_ENTITY', 'REGION', 'CARRIER_NAME', 'CARRIER_GROUP',\n",
       "       'CARRIER_GROUP_NEW', 'ORIGIN', 'ORIGIN_CITY_NAME', 'ORIGIN_STATE_NM',\n",
       "       'DEST', 'DEST_CITY_NAME', 'DEST_STATE_NM', 'AIRCRAFT_GROUP',\n",
       "       'AIRCRAFT_TYPE', 'AIRCRAFT_CONFIG', 'YEAR', 'QUARTER', 'MONTH',\n",
       "       'DISTANCE_GROUP', 'CLASS', 'passenger_miles', 'seat_miles',\n",
       "       'load_factor', 'per_cap', 'loadfactor_level', 'loadfactor_binned',\n",
       "       'High', 'Low', 'Medium', 'Very High', 'clusters'],\n",
       "      dtype='object')"
      ]
     },
     "execution_count": 23,
     "metadata": {},
     "output_type": "execute_result"
    }
   ],
   "source": [
    "df.columns"
   ]
  },
  {
   "cell_type": "code",
   "execution_count": 25,
   "metadata": {},
   "outputs": [
    {
     "name": "stdout",
     "output_type": "stream",
     "text": [
      "Number of Features:  40\n",
      "Number of Observations:  323187\n"
     ]
    }
   ],
   "source": [
    "# Lets look at how many rows and observations there are now\n",
    "print('Number of Features: ', len(df.columns))\n",
    "print('Number of Observations: ', len(df))"
   ]
  },
  {
   "cell_type": "markdown",
   "metadata": {},
   "source": [
    "# Classifier Models--No PCA"
   ]
  },
  {
   "cell_type": "markdown",
   "metadata": {},
   "source": [
    "KNN Classifier--Weighted"
   ]
  },
  {
   "cell_type": "code",
   "execution_count": 44,
   "metadata": {
    "collapsed": true
   },
   "outputs": [],
   "source": [
    "from sklearn import neighbors\n",
    "from sklearn.preprocessing import StandardScaler\n",
    "from sklearn.metrics import classification_report\n",
    "\n",
    "cat_var_ = ['UNIQUE_CARRIER_ENTITY', 'REGION', 'CARRIER_NAME', 'CARRIER_GROUP', 'CARRIER_GROUP_NEW', \n",
    "          'ORIGIN', 'ORIGIN_CITY_NAME', 'ORIGIN_STATE_NM', 'DEST', 'DEST_CITY_NAME', 'DEST_STATE_NM', \n",
    "          'AIRCRAFT_GROUP', 'AIRCRAFT_TYPE', 'AIRCRAFT_CONFIG', 'YEAR', 'QUARTER', 'MONTH', 'DISTANCE_GROUP', \n",
    "          'CLASS']\n",
    "\n",
    "def knn_weighted(X, y, n, cvk):\n",
    "    for each in cat_var:\n",
    "        le = LabelEncoder()\n",
    "        le_fit = le.fit(X[each])\n",
    "        le_transform = le.transform(df[each])\n",
    "        X[each] = le_transform\n",
    "    X = StandardScaler().fit_transform(X)\n",
    "    offset = int(X.shape[0] * 0.9)\n",
    "    X_train, y_train = X[:offset], y[:offset]\n",
    "    X_test, y_test = X[offset:], y[offset:]\n",
    "    knn = neighbors.KNeighborsClassifier(n_neighbors=n, weights='distance')\n",
    "    fit = knn.fit(X_train, y_train)\n",
    "    pred= knn.predict(X_test)\n",
    "    score = knn.score(X_test, y_test)\n",
    "    cm = confusion_matrix(y_test, pred)\n",
    "    fig, ax = plt.subplots()\n",
    "    im = ax.matshow(cm)\n",
    "    for (i, j), z in np.ndenumerate(cm):\n",
    "        ax.text(j, i, '{:0.1f}'.format(z), ha='center', va='center', \n",
    "                bbox=dict(boxstyle='round', facecolor='white', edgecolor='0.3'))\n",
    "    plt.title('Confusion matrix')\n",
    "    fig.colorbar(im)\n",
    "    plt.ylabel('True label')\n",
    "    plt.xlabel('Predicted label')\n",
    "    plt.show()\n",
    "    class_rep = classification_report(y_test, pred)\n",
    "    print('\\nClassification Report: \\n', class_rep)\n",
    "    print(\"Percent of CORRECTLY labeled points out of a total {} points : {}\".format(\n",
    "    len(y_test),\n",
    "    (1 - (y_test != pred).sum() / len(y_test)) * 100\n",
    "))\n",
    "    knnC_crossval = cross_val_score(knn, X, y, scoring='accuracy', cv=cvk)\n",
    "    print('\\nCross-validated Scores: \\n', knnC_crossval)\n",
    "    print('\\nMean Accuracy of Cross-Validated Scores: %0.2f (+/- %0.2f)' % (knnC_crossval.mean(), knnC_crossval.std() * 2))"
   ]
  },
  {
   "cell_type": "code",
   "execution_count": 45,
   "metadata": {
    "collapsed": true
   },
   "outputs": [],
   "source": [
    "X = df.drop(['loadfactor_level', 'loadfactor_binned', 'High', 'Low', 'Medium', 'Very High',\n",
    "            'load_factor', 'per_cap', 'passenger_miles', 'seat_miles', 'PASSENGERS'], axis=1)\n",
    "y = df['loadfactor_level']"
   ]
  },
  {
   "cell_type": "code",
   "execution_count": 46,
   "metadata": {},
   "outputs": [
    {
     "ename": "KeyError",
     "evalue": "'loadfactor_level'",
     "output_type": "error",
     "traceback": [
      "\u001b[0;31m---------------------------------------------------------------------------\u001b[0m",
      "\u001b[0;31mKeyError\u001b[0m                                  Traceback (most recent call last)",
      "\u001b[0;32m/anaconda/lib/python3.6/site-packages/pandas/core/indexes/base.py\u001b[0m in \u001b[0;36mget_loc\u001b[0;34m(self, key, method, tolerance)\u001b[0m\n\u001b[1;32m   2392\u001b[0m             \u001b[0;32mtry\u001b[0m\u001b[0;34m:\u001b[0m\u001b[0;34m\u001b[0m\u001b[0m\n\u001b[0;32m-> 2393\u001b[0;31m                 \u001b[0;32mreturn\u001b[0m \u001b[0mself\u001b[0m\u001b[0;34m.\u001b[0m\u001b[0m_engine\u001b[0m\u001b[0;34m.\u001b[0m\u001b[0mget_loc\u001b[0m\u001b[0;34m(\u001b[0m\u001b[0mkey\u001b[0m\u001b[0;34m)\u001b[0m\u001b[0;34m\u001b[0m\u001b[0m\n\u001b[0m\u001b[1;32m   2394\u001b[0m             \u001b[0;32mexcept\u001b[0m \u001b[0mKeyError\u001b[0m\u001b[0;34m:\u001b[0m\u001b[0;34m\u001b[0m\u001b[0m\n",
      "\u001b[0;32mpandas/_libs/index.pyx\u001b[0m in \u001b[0;36mpandas._libs.index.IndexEngine.get_loc (pandas/_libs/index.c:5239)\u001b[0;34m()\u001b[0m\n",
      "\u001b[0;32mpandas/_libs/index.pyx\u001b[0m in \u001b[0;36mpandas._libs.index.IndexEngine.get_loc (pandas/_libs/index.c:5085)\u001b[0;34m()\u001b[0m\n",
      "\u001b[0;32mpandas/_libs/hashtable_class_helper.pxi\u001b[0m in \u001b[0;36mpandas._libs.hashtable.PyObjectHashTable.get_item (pandas/_libs/hashtable.c:20405)\u001b[0;34m()\u001b[0m\n",
      "\u001b[0;32mpandas/_libs/hashtable_class_helper.pxi\u001b[0m in \u001b[0;36mpandas._libs.hashtable.PyObjectHashTable.get_item (pandas/_libs/hashtable.c:20359)\u001b[0;34m()\u001b[0m\n",
      "\u001b[0;31mKeyError\u001b[0m: 'loadfactor_level'",
      "\nDuring handling of the above exception, another exception occurred:\n",
      "\u001b[0;31mKeyError\u001b[0m                                  Traceback (most recent call last)",
      "\u001b[0;32m<ipython-input-46-8a9edffbe6e8>\u001b[0m in \u001b[0;36m<module>\u001b[0;34m()\u001b[0m\n\u001b[0;32m----> 1\u001b[0;31m \u001b[0mknn_weighted\u001b[0m\u001b[0;34m(\u001b[0m\u001b[0mX\u001b[0m\u001b[0;34m,\u001b[0m \u001b[0my\u001b[0m\u001b[0;34m,\u001b[0m \u001b[0;36m10\u001b[0m\u001b[0;34m,\u001b[0m \u001b[0;36m5\u001b[0m\u001b[0;34m)\u001b[0m\u001b[0;34m\u001b[0m\u001b[0m\n\u001b[0m",
      "\u001b[0;32m<ipython-input-44-2e396acdf9ef>\u001b[0m in \u001b[0;36mknn_weighted\u001b[0;34m(X, y, n, cvk)\u001b[0m\n\u001b[1;32m     11\u001b[0m     \u001b[0;32mfor\u001b[0m \u001b[0meach\u001b[0m \u001b[0;32min\u001b[0m \u001b[0mcat_var\u001b[0m\u001b[0;34m:\u001b[0m\u001b[0;34m\u001b[0m\u001b[0m\n\u001b[1;32m     12\u001b[0m         \u001b[0mle\u001b[0m \u001b[0;34m=\u001b[0m \u001b[0mLabelEncoder\u001b[0m\u001b[0;34m(\u001b[0m\u001b[0;34m)\u001b[0m\u001b[0;34m\u001b[0m\u001b[0m\n\u001b[0;32m---> 13\u001b[0;31m         \u001b[0mle_fit\u001b[0m \u001b[0;34m=\u001b[0m \u001b[0mle\u001b[0m\u001b[0;34m.\u001b[0m\u001b[0mfit\u001b[0m\u001b[0;34m(\u001b[0m\u001b[0mX\u001b[0m\u001b[0;34m[\u001b[0m\u001b[0meach\u001b[0m\u001b[0;34m]\u001b[0m\u001b[0;34m)\u001b[0m\u001b[0;34m\u001b[0m\u001b[0m\n\u001b[0m\u001b[1;32m     14\u001b[0m         \u001b[0mle_transform\u001b[0m \u001b[0;34m=\u001b[0m \u001b[0mle\u001b[0m\u001b[0;34m.\u001b[0m\u001b[0mtransform\u001b[0m\u001b[0;34m(\u001b[0m\u001b[0mdf\u001b[0m\u001b[0;34m[\u001b[0m\u001b[0meach\u001b[0m\u001b[0;34m]\u001b[0m\u001b[0;34m)\u001b[0m\u001b[0;34m\u001b[0m\u001b[0m\n\u001b[1;32m     15\u001b[0m         \u001b[0mX\u001b[0m\u001b[0;34m[\u001b[0m\u001b[0meach\u001b[0m\u001b[0;34m]\u001b[0m \u001b[0;34m=\u001b[0m \u001b[0mle_transform\u001b[0m\u001b[0;34m\u001b[0m\u001b[0m\n",
      "\u001b[0;32m/anaconda/lib/python3.6/site-packages/pandas/core/frame.py\u001b[0m in \u001b[0;36m__getitem__\u001b[0;34m(self, key)\u001b[0m\n\u001b[1;32m   2060\u001b[0m             \u001b[0;32mreturn\u001b[0m \u001b[0mself\u001b[0m\u001b[0;34m.\u001b[0m\u001b[0m_getitem_multilevel\u001b[0m\u001b[0;34m(\u001b[0m\u001b[0mkey\u001b[0m\u001b[0;34m)\u001b[0m\u001b[0;34m\u001b[0m\u001b[0m\n\u001b[1;32m   2061\u001b[0m         \u001b[0;32melse\u001b[0m\u001b[0;34m:\u001b[0m\u001b[0;34m\u001b[0m\u001b[0m\n\u001b[0;32m-> 2062\u001b[0;31m             \u001b[0;32mreturn\u001b[0m \u001b[0mself\u001b[0m\u001b[0;34m.\u001b[0m\u001b[0m_getitem_column\u001b[0m\u001b[0;34m(\u001b[0m\u001b[0mkey\u001b[0m\u001b[0;34m)\u001b[0m\u001b[0;34m\u001b[0m\u001b[0m\n\u001b[0m\u001b[1;32m   2063\u001b[0m \u001b[0;34m\u001b[0m\u001b[0m\n\u001b[1;32m   2064\u001b[0m     \u001b[0;32mdef\u001b[0m \u001b[0m_getitem_column\u001b[0m\u001b[0;34m(\u001b[0m\u001b[0mself\u001b[0m\u001b[0;34m,\u001b[0m \u001b[0mkey\u001b[0m\u001b[0;34m)\u001b[0m\u001b[0;34m:\u001b[0m\u001b[0;34m\u001b[0m\u001b[0m\n",
      "\u001b[0;32m/anaconda/lib/python3.6/site-packages/pandas/core/frame.py\u001b[0m in \u001b[0;36m_getitem_column\u001b[0;34m(self, key)\u001b[0m\n\u001b[1;32m   2067\u001b[0m         \u001b[0;31m# get column\u001b[0m\u001b[0;34m\u001b[0m\u001b[0;34m\u001b[0m\u001b[0m\n\u001b[1;32m   2068\u001b[0m         \u001b[0;32mif\u001b[0m \u001b[0mself\u001b[0m\u001b[0;34m.\u001b[0m\u001b[0mcolumns\u001b[0m\u001b[0;34m.\u001b[0m\u001b[0mis_unique\u001b[0m\u001b[0;34m:\u001b[0m\u001b[0;34m\u001b[0m\u001b[0m\n\u001b[0;32m-> 2069\u001b[0;31m             \u001b[0;32mreturn\u001b[0m \u001b[0mself\u001b[0m\u001b[0;34m.\u001b[0m\u001b[0m_get_item_cache\u001b[0m\u001b[0;34m(\u001b[0m\u001b[0mkey\u001b[0m\u001b[0;34m)\u001b[0m\u001b[0;34m\u001b[0m\u001b[0m\n\u001b[0m\u001b[1;32m   2070\u001b[0m \u001b[0;34m\u001b[0m\u001b[0m\n\u001b[1;32m   2071\u001b[0m         \u001b[0;31m# duplicate columns & possible reduce dimensionality\u001b[0m\u001b[0;34m\u001b[0m\u001b[0;34m\u001b[0m\u001b[0m\n",
      "\u001b[0;32m/anaconda/lib/python3.6/site-packages/pandas/core/generic.py\u001b[0m in \u001b[0;36m_get_item_cache\u001b[0;34m(self, item)\u001b[0m\n\u001b[1;32m   1532\u001b[0m         \u001b[0mres\u001b[0m \u001b[0;34m=\u001b[0m \u001b[0mcache\u001b[0m\u001b[0;34m.\u001b[0m\u001b[0mget\u001b[0m\u001b[0;34m(\u001b[0m\u001b[0mitem\u001b[0m\u001b[0;34m)\u001b[0m\u001b[0;34m\u001b[0m\u001b[0m\n\u001b[1;32m   1533\u001b[0m         \u001b[0;32mif\u001b[0m \u001b[0mres\u001b[0m \u001b[0;32mis\u001b[0m \u001b[0;32mNone\u001b[0m\u001b[0;34m:\u001b[0m\u001b[0;34m\u001b[0m\u001b[0m\n\u001b[0;32m-> 1534\u001b[0;31m             \u001b[0mvalues\u001b[0m \u001b[0;34m=\u001b[0m \u001b[0mself\u001b[0m\u001b[0;34m.\u001b[0m\u001b[0m_data\u001b[0m\u001b[0;34m.\u001b[0m\u001b[0mget\u001b[0m\u001b[0;34m(\u001b[0m\u001b[0mitem\u001b[0m\u001b[0;34m)\u001b[0m\u001b[0;34m\u001b[0m\u001b[0m\n\u001b[0m\u001b[1;32m   1535\u001b[0m             \u001b[0mres\u001b[0m \u001b[0;34m=\u001b[0m \u001b[0mself\u001b[0m\u001b[0;34m.\u001b[0m\u001b[0m_box_item_values\u001b[0m\u001b[0;34m(\u001b[0m\u001b[0mitem\u001b[0m\u001b[0;34m,\u001b[0m \u001b[0mvalues\u001b[0m\u001b[0;34m)\u001b[0m\u001b[0;34m\u001b[0m\u001b[0m\n\u001b[1;32m   1536\u001b[0m             \u001b[0mcache\u001b[0m\u001b[0;34m[\u001b[0m\u001b[0mitem\u001b[0m\u001b[0;34m]\u001b[0m \u001b[0;34m=\u001b[0m \u001b[0mres\u001b[0m\u001b[0;34m\u001b[0m\u001b[0m\n",
      "\u001b[0;32m/anaconda/lib/python3.6/site-packages/pandas/core/internals.py\u001b[0m in \u001b[0;36mget\u001b[0;34m(self, item, fastpath)\u001b[0m\n\u001b[1;32m   3588\u001b[0m \u001b[0;34m\u001b[0m\u001b[0m\n\u001b[1;32m   3589\u001b[0m             \u001b[0;32mif\u001b[0m \u001b[0;32mnot\u001b[0m \u001b[0misnull\u001b[0m\u001b[0;34m(\u001b[0m\u001b[0mitem\u001b[0m\u001b[0;34m)\u001b[0m\u001b[0;34m:\u001b[0m\u001b[0;34m\u001b[0m\u001b[0m\n\u001b[0;32m-> 3590\u001b[0;31m                 \u001b[0mloc\u001b[0m \u001b[0;34m=\u001b[0m \u001b[0mself\u001b[0m\u001b[0;34m.\u001b[0m\u001b[0mitems\u001b[0m\u001b[0;34m.\u001b[0m\u001b[0mget_loc\u001b[0m\u001b[0;34m(\u001b[0m\u001b[0mitem\u001b[0m\u001b[0;34m)\u001b[0m\u001b[0;34m\u001b[0m\u001b[0m\n\u001b[0m\u001b[1;32m   3591\u001b[0m             \u001b[0;32melse\u001b[0m\u001b[0;34m:\u001b[0m\u001b[0;34m\u001b[0m\u001b[0m\n\u001b[1;32m   3592\u001b[0m                 \u001b[0mindexer\u001b[0m \u001b[0;34m=\u001b[0m \u001b[0mnp\u001b[0m\u001b[0;34m.\u001b[0m\u001b[0marange\u001b[0m\u001b[0;34m(\u001b[0m\u001b[0mlen\u001b[0m\u001b[0;34m(\u001b[0m\u001b[0mself\u001b[0m\u001b[0;34m.\u001b[0m\u001b[0mitems\u001b[0m\u001b[0;34m)\u001b[0m\u001b[0;34m)\u001b[0m\u001b[0;34m[\u001b[0m\u001b[0misnull\u001b[0m\u001b[0;34m(\u001b[0m\u001b[0mself\u001b[0m\u001b[0;34m.\u001b[0m\u001b[0mitems\u001b[0m\u001b[0;34m)\u001b[0m\u001b[0;34m]\u001b[0m\u001b[0;34m\u001b[0m\u001b[0m\n",
      "\u001b[0;32m/anaconda/lib/python3.6/site-packages/pandas/core/indexes/base.py\u001b[0m in \u001b[0;36mget_loc\u001b[0;34m(self, key, method, tolerance)\u001b[0m\n\u001b[1;32m   2393\u001b[0m                 \u001b[0;32mreturn\u001b[0m \u001b[0mself\u001b[0m\u001b[0;34m.\u001b[0m\u001b[0m_engine\u001b[0m\u001b[0;34m.\u001b[0m\u001b[0mget_loc\u001b[0m\u001b[0;34m(\u001b[0m\u001b[0mkey\u001b[0m\u001b[0;34m)\u001b[0m\u001b[0;34m\u001b[0m\u001b[0m\n\u001b[1;32m   2394\u001b[0m             \u001b[0;32mexcept\u001b[0m \u001b[0mKeyError\u001b[0m\u001b[0;34m:\u001b[0m\u001b[0;34m\u001b[0m\u001b[0m\n\u001b[0;32m-> 2395\u001b[0;31m                 \u001b[0;32mreturn\u001b[0m \u001b[0mself\u001b[0m\u001b[0;34m.\u001b[0m\u001b[0m_engine\u001b[0m\u001b[0;34m.\u001b[0m\u001b[0mget_loc\u001b[0m\u001b[0;34m(\u001b[0m\u001b[0mself\u001b[0m\u001b[0;34m.\u001b[0m\u001b[0m_maybe_cast_indexer\u001b[0m\u001b[0;34m(\u001b[0m\u001b[0mkey\u001b[0m\u001b[0;34m)\u001b[0m\u001b[0;34m)\u001b[0m\u001b[0;34m\u001b[0m\u001b[0m\n\u001b[0m\u001b[1;32m   2396\u001b[0m \u001b[0;34m\u001b[0m\u001b[0m\n\u001b[1;32m   2397\u001b[0m         \u001b[0mindexer\u001b[0m \u001b[0;34m=\u001b[0m \u001b[0mself\u001b[0m\u001b[0;34m.\u001b[0m\u001b[0mget_indexer\u001b[0m\u001b[0;34m(\u001b[0m\u001b[0;34m[\u001b[0m\u001b[0mkey\u001b[0m\u001b[0;34m]\u001b[0m\u001b[0;34m,\u001b[0m \u001b[0mmethod\u001b[0m\u001b[0;34m=\u001b[0m\u001b[0mmethod\u001b[0m\u001b[0;34m,\u001b[0m \u001b[0mtolerance\u001b[0m\u001b[0;34m=\u001b[0m\u001b[0mtolerance\u001b[0m\u001b[0;34m)\u001b[0m\u001b[0;34m\u001b[0m\u001b[0m\n",
      "\u001b[0;32mpandas/_libs/index.pyx\u001b[0m in \u001b[0;36mpandas._libs.index.IndexEngine.get_loc (pandas/_libs/index.c:5239)\u001b[0;34m()\u001b[0m\n",
      "\u001b[0;32mpandas/_libs/index.pyx\u001b[0m in \u001b[0;36mpandas._libs.index.IndexEngine.get_loc (pandas/_libs/index.c:5085)\u001b[0;34m()\u001b[0m\n",
      "\u001b[0;32mpandas/_libs/hashtable_class_helper.pxi\u001b[0m in \u001b[0;36mpandas._libs.hashtable.PyObjectHashTable.get_item (pandas/_libs/hashtable.c:20405)\u001b[0;34m()\u001b[0m\n",
      "\u001b[0;32mpandas/_libs/hashtable_class_helper.pxi\u001b[0m in \u001b[0;36mpandas._libs.hashtable.PyObjectHashTable.get_item (pandas/_libs/hashtable.c:20359)\u001b[0;34m()\u001b[0m\n",
      "\u001b[0;31mKeyError\u001b[0m: 'loadfactor_level'"
     ]
    }
   ],
   "source": [
    "knn_weighted(X, y, 10, 5)"
   ]
  },
  {
   "cell_type": "code",
   "execution_count": 47,
   "metadata": {},
   "outputs": [
    {
     "data": {
      "text/plain": [
       "1858    Very High\n",
       "1859    Very High\n",
       "1860          Low\n",
       "1861    Very High\n",
       "1862          Low\n",
       "Name: loadfactor_level, dtype: category\n",
       "Categories (4, object): [High < Low < Medium < Very High]"
      ]
     },
     "execution_count": 47,
     "metadata": {},
     "output_type": "execute_result"
    }
   ],
   "source": [
    "df['loadfactor_level'].head()"
   ]
  },
  {
   "cell_type": "code",
   "execution_count": null,
   "metadata": {
    "collapsed": true
   },
   "outputs": [],
   "source": []
  }
 ],
 "metadata": {
  "kernelspec": {
   "display_name": "Python 3",
   "language": "python",
   "name": "python3"
  },
  "language_info": {
   "codemirror_mode": {
    "name": "ipython",
    "version": 3
   },
   "file_extension": ".py",
   "mimetype": "text/x-python",
   "name": "python",
   "nbconvert_exporter": "python",
   "pygments_lexer": "ipython3",
   "version": "3.6.1"
  }
 },
 "nbformat": 4,
 "nbformat_minor": 2
}
