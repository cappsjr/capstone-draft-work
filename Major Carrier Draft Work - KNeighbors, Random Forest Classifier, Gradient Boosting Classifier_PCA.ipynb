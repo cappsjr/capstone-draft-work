{
 "cells": [
  {
   "cell_type": "code",
   "execution_count": 1,
   "metadata": {
    "collapsed": true
   },
   "outputs": [],
   "source": [
    "import pandas as pd\n",
    "import numpy as np\n",
    "import matplotlib.pyplot as plt\n",
    "%matplotlib inline\n",
    "import scipy\n",
    "import seaborn as sns"
   ]
  },
  {
   "cell_type": "code",
   "execution_count": 2,
   "metadata": {
    "collapsed": true
   },
   "outputs": [],
   "source": [
    "df_2015 = pd.read_csv('2015.csv')\n",
    "df_2016 = pd.read_csv('2016.csv')\n",
    "frames = [df_2015, df_2016]\n",
    "df = pd.concat(frames)"
   ]
  },
  {
   "cell_type": "code",
   "execution_count": 3,
   "metadata": {},
   "outputs": [
    {
     "name": "stdout",
     "output_type": "stream",
     "text": [
      "Number of Features:  46\n",
      "Number of Observations:  752559\n"
     ]
    }
   ],
   "source": [
    "print('Number of Features: ', len(df.columns))\n",
    "print('Number of Observations: ', len(df))"
   ]
  },
  {
   "cell_type": "code",
   "execution_count": 4,
   "metadata": {},
   "outputs": [
    {
     "data": {
      "text/plain": [
       "Index(['DEPARTURES_SCHEDULED', 'DEPARTURES_PERFORMED', 'PAYLOAD', 'SEATS',\n",
       "       'PASSENGERS', 'FREIGHT', 'MAIL', 'DISTANCE', 'RAMP_TO_RAMP', 'AIR_TIME',\n",
       "       'UNIQUE_CARRIER', 'AIRLINE_ID', 'UNIQUE_CARRIER_NAME',\n",
       "       'UNIQUE_CARRIER_ENTITY', 'REGION', 'CARRIER', 'CARRIER_NAME',\n",
       "       'CARRIER_GROUP', 'CARRIER_GROUP_NEW', 'ORIGIN_AIRPORT_ID',\n",
       "       'ORIGIN_AIRPORT_SEQ_ID', 'ORIGIN_CITY_MARKET_ID', 'ORIGIN',\n",
       "       'ORIGIN_CITY_NAME', 'ORIGIN_STATE_ABR', 'ORIGIN_STATE_FIPS',\n",
       "       'ORIGIN_STATE_NM', 'ORIGIN_WAC', 'DEST_AIRPORT_ID',\n",
       "       'DEST_AIRPORT_SEQ_ID', 'DEST_CITY_MARKET_ID', 'DEST', 'DEST_CITY_NAME',\n",
       "       'DEST_STATE_ABR', 'DEST_STATE_FIPS', 'DEST_STATE_NM', 'DEST_WAC',\n",
       "       'AIRCRAFT_GROUP', 'AIRCRAFT_TYPE', 'AIRCRAFT_CONFIG', 'YEAR', 'QUARTER',\n",
       "       'MONTH', 'DISTANCE_GROUP', 'CLASS', 'Unnamed: 45'],\n",
       "      dtype='object')"
      ]
     },
     "execution_count": 4,
     "metadata": {},
     "output_type": "execute_result"
    }
   ],
   "source": [
    "df.columns"
   ]
  },
  {
   "cell_type": "code",
   "execution_count": 5,
   "metadata": {
    "collapsed": true
   },
   "outputs": [],
   "source": [
    "# These features are redundant, so we are going to drop them\n",
    "df = df.drop(['UNIQUE_CARRIER', 'AIRLINE_ID', 'UNIQUE_CARRIER_NAME', 'CARRIER',  'ORIGIN_STATE_ABR', \n",
    "             'ORIGIN_STATE_FIPS', 'ORIGIN_WAC', 'DEST_STATE_ABR', 'DEST_STATE_FIPS', 'DEST_WAC',\n",
    "             'DEST_CITY_MARKET_ID', 'DEST_AIRPORT_ID', 'DEST_AIRPORT_SEQ_ID','ORIGIN_CITY_MARKET_ID', \n",
    "              'ORIGIN_AIRPORT_ID', 'ORIGIN_AIRPORT_SEQ_ID'], axis=1)"
   ]
  },
  {
   "cell_type": "code",
   "execution_count": 6,
   "metadata": {
    "collapsed": true
   },
   "outputs": [],
   "source": [
    "# Create new features: passenger_miles, seat_miles, load_factor, per_per\n",
    "df['passenger_miles'] = df['PASSENGERS'] * df['DISTANCE']\n",
    "df['seat_miles'] = df['SEATS'] * df['DISTANCE']\n",
    "df['load_factor'] = df['passenger_miles'] / df['seat_miles']\n",
    "df['per_cap'] = df['PASSENGERS'] / df['SEATS']"
   ]
  },
  {
   "cell_type": "code",
   "execution_count": 7,
   "metadata": {
    "collapsed": true
   },
   "outputs": [],
   "source": [
    "# Drop Unnamed: 45\n",
    "df = df.drop('Unnamed: 45', axis=1)\n",
    "\n",
    "# Drop INF observations\n",
    "df = df[df != np.inf]"
   ]
  },
  {
   "cell_type": "code",
   "execution_count": 8,
   "metadata": {
    "collapsed": true
   },
   "outputs": [],
   "source": [
    "# Also need to drop NaN values\n",
    "df = df.dropna()\n",
    "\n",
    "# We are interested in looking at passengers and load_factor, so lets drop all observations where there are no seats\n",
    "# and there are no passengers\n",
    "\n",
    "df = df[df.seat_miles !=0]\n",
    "df = df[df.SEATS != 0]\n",
    "df = df[df.PASSENGERS !=0]"
   ]
  },
  {
   "cell_type": "code",
   "execution_count": 9,
   "metadata": {
    "collapsed": true
   },
   "outputs": [],
   "source": [
    "df = df[df.CARRIER_GROUP_NEW == 3]"
   ]
  },
  {
   "cell_type": "code",
   "execution_count": 10,
   "metadata": {},
   "outputs": [
    {
     "data": {
      "text/plain": [
       "array(['Frontier Airlines Inc.', 'Southwest Airlines Co.',\n",
       "       'Atlas Air Inc.', 'Alaska Airlines Inc.', 'Delta Air Lines Inc.',\n",
       "       'Envoy Air', 'US Airways Inc.', 'Virgin America',\n",
       "       'Hawaiian Airlines Inc.', 'United Air Lines Inc.',\n",
       "       'JetBlue Airways', 'American Airlines Inc.',\n",
       "       'SkyWest Airlines Inc.', 'ExpressJet Airlines Inc.',\n",
       "       'Spirit Air Lines', 'Allegiant Air'], dtype=object)"
      ]
     },
     "execution_count": 10,
     "metadata": {},
     "output_type": "execute_result"
    }
   ],
   "source": [
    "df.CARRIER_NAME.unique()"
   ]
  },
  {
   "cell_type": "code",
   "execution_count": 11,
   "metadata": {},
   "outputs": [
    {
     "data": {
      "text/plain": [
       "16"
      ]
     },
     "execution_count": 11,
     "metadata": {},
     "output_type": "execute_result"
    }
   ],
   "source": [
    "len(df.CARRIER_NAME.unique())"
   ]
  },
  {
   "cell_type": "code",
   "execution_count": 12,
   "metadata": {},
   "outputs": [
    {
     "name": "stdout",
     "output_type": "stream",
     "text": [
      "Number of Features:  33\n",
      "Number of Observations:  378382\n"
     ]
    }
   ],
   "source": [
    "# Lets look at how many rows and observations there are now\n",
    "print('Number of Features: ', len(df.columns))\n",
    "print('Number of Observations: ', len(df))"
   ]
  },
  {
   "cell_type": "markdown",
   "metadata": {
    "collapsed": true
   },
   "source": [
    "# Changes Made After Exploring the Variables"
   ]
  },
  {
   "cell_type": "code",
   "execution_count": 13,
   "metadata": {
    "collapsed": true
   },
   "outputs": [],
   "source": [
    "# Lets remove the obvious outliers\n",
    "df = df[df.PASSENGERS < 15000]\n",
    "df = df[df.load_factor < 1.0000001]\n",
    "df = df[df.DEPARTURES_SCHEDULED < 125]\n",
    "df = df[df.DEPARTURES_PERFORMED < 125]\n",
    "df= df[df.PAYLOAD < 4000000]\n",
    "df = df[df.SEATS < 10000]\n",
    "df = df[df.RAMP_TO_RAMP < 15000]\n",
    "df = df[df.DISTANCE < 3000]"
   ]
  },
  {
   "cell_type": "code",
   "execution_count": 14,
   "metadata": {
    "collapsed": true
   },
   "outputs": [],
   "source": [
    "# We are only interested in the domestic flights for the purposes of this project\n",
    "df = df[df.REGION == 'D']\n",
    "\n",
    "# Even though we are examining continuou variables in this notebook, I am going to drop all cargo/non-passenger\n",
    "# observations by 'CLASS' and see how that effects the distributions of load_factor and per_cap. \n",
    "df = df[df.CLASS != 'G']\n",
    "df = df[df.CLASS != 'P']\n",
    "df = df[df.CLASS != 'L']\n",
    "\n",
    "# I am also going to remove all non-passenger or mixed use aircraft configurations so that only passenger\n",
    "# configurations remain\n",
    "df = df[df.CLASS != '2']\n",
    "df = df[df.CLASS != '3']\n",
    "df = df[df.CLASS != '4']\n",
    "\n",
    "# For the purposes of this project, we are only interested in planes that were meant to carry passengers.\n",
    "df = df[df.AIRCRAFT_CONFIG == 1]"
   ]
  },
  {
   "cell_type": "code",
   "execution_count": 15,
   "metadata": {},
   "outputs": [
    {
     "data": {
      "text/plain": [
       "0.050919500000000006"
      ]
     },
     "execution_count": 15,
     "metadata": {},
     "output_type": "execute_result"
    }
   ],
   "source": [
    "(0.847672 - 0.745833) / 2"
   ]
  },
  {
   "cell_type": "code",
   "execution_count": 16,
   "metadata": {},
   "outputs": [
    {
     "data": {
      "text/plain": [
       "0.7967525"
      ]
     },
     "execution_count": 16,
     "metadata": {},
     "output_type": "execute_result"
    }
   ],
   "source": [
    "0.745833 + 0.050919500000000006"
   ]
  },
  {
   "cell_type": "code",
   "execution_count": 17,
   "metadata": {},
   "outputs": [
    {
     "data": {
      "text/plain": [
       "0.03346450000000001"
      ]
     },
     "execution_count": 17,
     "metadata": {},
     "output_type": "execute_result"
    }
   ],
   "source": [
    "(0.914601 - 0.847672) / 2"
   ]
  },
  {
   "cell_type": "code",
   "execution_count": 29,
   "metadata": {},
   "outputs": [
    {
     "data": {
      "text/plain": [
       "0.89786875"
      ]
     },
     "execution_count": 29,
     "metadata": {},
     "output_type": "execute_result"
    }
   ],
   "source": [
    "0.914601 - (0.03346450000000001 / 2)"
   ]
  },
  {
   "cell_type": "code",
   "execution_count": 30,
   "metadata": {
    "collapsed": true
   },
   "outputs": [],
   "source": [
    "bins = [0, 0.7967525, 0.89786875, 1.000000]\n",
    "group_names = ['Low', 'Medium', 'High']\n",
    "\n",
    "categories = pd.cut(df['load_factor'], bins, labels=group_names)\n",
    "df['loadfactor_level'] = pd.cut(df['load_factor'], bins, labels=group_names)\n",
    "df['loadfactor_binned'] = pd.cut(df['load_factor'], bins)"
   ]
  },
  {
   "cell_type": "code",
   "execution_count": 31,
   "metadata": {},
   "outputs": [
    {
     "data": {
      "text/plain": [
       "Low       114582\n",
       "Medium    105963\n",
       "High      102642\n",
       "Name: loadfactor_level, dtype: int64"
      ]
     },
     "execution_count": 31,
     "metadata": {},
     "output_type": "execute_result"
    }
   ],
   "source": [
    "pd.value_counts(df['loadfactor_level'])"
   ]
  },
  {
   "cell_type": "code",
   "execution_count": 32,
   "metadata": {},
   "outputs": [
    {
     "data": {
      "text/html": [
       "<div>\n",
       "<style>\n",
       "    .dataframe thead tr:only-child th {\n",
       "        text-align: right;\n",
       "    }\n",
       "\n",
       "    .dataframe thead th {\n",
       "        text-align: left;\n",
       "    }\n",
       "\n",
       "    .dataframe tbody tr th {\n",
       "        vertical-align: top;\n",
       "    }\n",
       "</style>\n",
       "<table border=\"1\" class=\"dataframe\">\n",
       "  <thead>\n",
       "    <tr style=\"text-align: right;\">\n",
       "      <th></th>\n",
       "      <th>DEPARTURES_SCHEDULED</th>\n",
       "      <th>DEPARTURES_PERFORMED</th>\n",
       "      <th>PAYLOAD</th>\n",
       "      <th>SEATS</th>\n",
       "      <th>PASSENGERS</th>\n",
       "      <th>FREIGHT</th>\n",
       "      <th>MAIL</th>\n",
       "      <th>DISTANCE</th>\n",
       "      <th>RAMP_TO_RAMP</th>\n",
       "      <th>AIR_TIME</th>\n",
       "      <th>...</th>\n",
       "      <th>CLASS</th>\n",
       "      <th>passenger_miles</th>\n",
       "      <th>seat_miles</th>\n",
       "      <th>load_factor</th>\n",
       "      <th>per_cap</th>\n",
       "      <th>loadfactor_level</th>\n",
       "      <th>loadfactor_binned</th>\n",
       "      <th>High</th>\n",
       "      <th>Low</th>\n",
       "      <th>Medium</th>\n",
       "    </tr>\n",
       "  </thead>\n",
       "  <tbody>\n",
       "    <tr>\n",
       "      <th>1858</th>\n",
       "      <td>0.0</td>\n",
       "      <td>1.0</td>\n",
       "      <td>32200.0</td>\n",
       "      <td>137.0</td>\n",
       "      <td>130.0</td>\n",
       "      <td>74.0</td>\n",
       "      <td>0.0</td>\n",
       "      <td>619.0</td>\n",
       "      <td>121.0</td>\n",
       "      <td>107.0</td>\n",
       "      <td>...</td>\n",
       "      <td>F</td>\n",
       "      <td>80470.0</td>\n",
       "      <td>84803.0</td>\n",
       "      <td>0.948905</td>\n",
       "      <td>0.948905</td>\n",
       "      <td>High</td>\n",
       "      <td>(0.898, 1.0]</td>\n",
       "      <td>1</td>\n",
       "      <td>0</td>\n",
       "      <td>0</td>\n",
       "    </tr>\n",
       "    <tr>\n",
       "      <th>1859</th>\n",
       "      <td>0.0</td>\n",
       "      <td>1.0</td>\n",
       "      <td>43400.0</td>\n",
       "      <td>175.0</td>\n",
       "      <td>171.0</td>\n",
       "      <td>281.0</td>\n",
       "      <td>0.0</td>\n",
       "      <td>349.0</td>\n",
       "      <td>65.0</td>\n",
       "      <td>52.0</td>\n",
       "      <td>...</td>\n",
       "      <td>F</td>\n",
       "      <td>59679.0</td>\n",
       "      <td>61075.0</td>\n",
       "      <td>0.977143</td>\n",
       "      <td>0.977143</td>\n",
       "      <td>High</td>\n",
       "      <td>(0.898, 1.0]</td>\n",
       "      <td>1</td>\n",
       "      <td>0</td>\n",
       "      <td>0</td>\n",
       "    </tr>\n",
       "    <tr>\n",
       "      <th>1860</th>\n",
       "      <td>0.0</td>\n",
       "      <td>1.0</td>\n",
       "      <td>34600.0</td>\n",
       "      <td>143.0</td>\n",
       "      <td>84.0</td>\n",
       "      <td>4.0</td>\n",
       "      <td>0.0</td>\n",
       "      <td>332.0</td>\n",
       "      <td>57.0</td>\n",
       "      <td>45.0</td>\n",
       "      <td>...</td>\n",
       "      <td>F</td>\n",
       "      <td>27888.0</td>\n",
       "      <td>47476.0</td>\n",
       "      <td>0.587413</td>\n",
       "      <td>0.587413</td>\n",
       "      <td>Low</td>\n",
       "      <td>(0.0, 0.797]</td>\n",
       "      <td>0</td>\n",
       "      <td>1</td>\n",
       "      <td>0</td>\n",
       "    </tr>\n",
       "    <tr>\n",
       "      <th>1861</th>\n",
       "      <td>0.0</td>\n",
       "      <td>1.0</td>\n",
       "      <td>34600.0</td>\n",
       "      <td>143.0</td>\n",
       "      <td>131.0</td>\n",
       "      <td>0.0</td>\n",
       "      <td>0.0</td>\n",
       "      <td>1486.0</td>\n",
       "      <td>229.0</td>\n",
       "      <td>211.0</td>\n",
       "      <td>...</td>\n",
       "      <td>F</td>\n",
       "      <td>194666.0</td>\n",
       "      <td>212498.0</td>\n",
       "      <td>0.916084</td>\n",
       "      <td>0.916084</td>\n",
       "      <td>High</td>\n",
       "      <td>(0.898, 1.0]</td>\n",
       "      <td>1</td>\n",
       "      <td>0</td>\n",
       "      <td>0</td>\n",
       "    </tr>\n",
       "    <tr>\n",
       "      <th>1862</th>\n",
       "      <td>0.0</td>\n",
       "      <td>1.0</td>\n",
       "      <td>34600.0</td>\n",
       "      <td>143.0</td>\n",
       "      <td>73.0</td>\n",
       "      <td>267.0</td>\n",
       "      <td>0.0</td>\n",
       "      <td>609.0</td>\n",
       "      <td>149.0</td>\n",
       "      <td>138.0</td>\n",
       "      <td>...</td>\n",
       "      <td>F</td>\n",
       "      <td>44457.0</td>\n",
       "      <td>87087.0</td>\n",
       "      <td>0.510490</td>\n",
       "      <td>0.510490</td>\n",
       "      <td>Low</td>\n",
       "      <td>(0.0, 0.797]</td>\n",
       "      <td>0</td>\n",
       "      <td>1</td>\n",
       "      <td>0</td>\n",
       "    </tr>\n",
       "  </tbody>\n",
       "</table>\n",
       "<p>5 rows × 38 columns</p>\n",
       "</div>"
      ],
      "text/plain": [
       "      DEPARTURES_SCHEDULED  DEPARTURES_PERFORMED  PAYLOAD  SEATS  PASSENGERS  \\\n",
       "1858                   0.0                   1.0  32200.0  137.0       130.0   \n",
       "1859                   0.0                   1.0  43400.0  175.0       171.0   \n",
       "1860                   0.0                   1.0  34600.0  143.0        84.0   \n",
       "1861                   0.0                   1.0  34600.0  143.0       131.0   \n",
       "1862                   0.0                   1.0  34600.0  143.0        73.0   \n",
       "\n",
       "      FREIGHT  MAIL  DISTANCE  RAMP_TO_RAMP  AIR_TIME  ...   CLASS  \\\n",
       "1858     74.0   0.0     619.0         121.0     107.0  ...       F   \n",
       "1859    281.0   0.0     349.0          65.0      52.0  ...       F   \n",
       "1860      4.0   0.0     332.0          57.0      45.0  ...       F   \n",
       "1861      0.0   0.0    1486.0         229.0     211.0  ...       F   \n",
       "1862    267.0   0.0     609.0         149.0     138.0  ...       F   \n",
       "\n",
       "     passenger_miles seat_miles  load_factor   per_cap loadfactor_level  \\\n",
       "1858         80470.0    84803.0     0.948905  0.948905             High   \n",
       "1859         59679.0    61075.0     0.977143  0.977143             High   \n",
       "1860         27888.0    47476.0     0.587413  0.587413              Low   \n",
       "1861        194666.0   212498.0     0.916084  0.916084             High   \n",
       "1862         44457.0    87087.0     0.510490  0.510490              Low   \n",
       "\n",
       "     loadfactor_binned High Low Medium  \n",
       "1858      (0.898, 1.0]    1   0      0  \n",
       "1859      (0.898, 1.0]    1   0      0  \n",
       "1860      (0.0, 0.797]    0   1      0  \n",
       "1861      (0.898, 1.0]    1   0      0  \n",
       "1862      (0.0, 0.797]    0   1      0  \n",
       "\n",
       "[5 rows x 38 columns]"
      ]
     },
     "execution_count": 32,
     "metadata": {},
     "output_type": "execute_result"
    }
   ],
   "source": [
    "lf_dum = pd.get_dummies(df['loadfactor_level'])\n",
    "df = pd.concat([df, lf_dum], axis=1)\n",
    "df.head()"
   ]
  },
  {
   "cell_type": "code",
   "execution_count": 33,
   "metadata": {},
   "outputs": [
    {
     "name": "stdout",
     "output_type": "stream",
     "text": [
      "Number of Features:  38\n",
      "Number of Observations:  323187\n"
     ]
    }
   ],
   "source": [
    "# Lets look at how many rows and observations there are now\n",
    "print('Number of Features: ', len(df.columns))\n",
    "print('Number of Observations: ', len(df))"
   ]
  },
  {
   "cell_type": "markdown",
   "metadata": {},
   "source": [
    "# Clustering"
   ]
  },
  {
   "cell_type": "code",
   "execution_count": 34,
   "metadata": {},
   "outputs": [
    {
     "data": {
      "text/plain": [
       "Index(['DEPARTURES_SCHEDULED', 'DEPARTURES_PERFORMED', 'PAYLOAD', 'SEATS',\n",
       "       'PASSENGERS', 'FREIGHT', 'MAIL', 'DISTANCE', 'RAMP_TO_RAMP', 'AIR_TIME',\n",
       "       'UNIQUE_CARRIER_ENTITY', 'REGION', 'CARRIER_NAME', 'CARRIER_GROUP',\n",
       "       'CARRIER_GROUP_NEW', 'ORIGIN', 'ORIGIN_CITY_NAME', 'ORIGIN_STATE_NM',\n",
       "       'DEST', 'DEST_CITY_NAME', 'DEST_STATE_NM', 'AIRCRAFT_GROUP',\n",
       "       'AIRCRAFT_TYPE', 'AIRCRAFT_CONFIG', 'YEAR', 'QUARTER', 'MONTH',\n",
       "       'DISTANCE_GROUP', 'CLASS', 'passenger_miles', 'seat_miles',\n",
       "       'load_factor', 'per_cap', 'loadfactor_level', 'loadfactor_binned',\n",
       "       'High', 'Low', 'Medium'],\n",
       "      dtype='object')"
      ]
     },
     "execution_count": 34,
     "metadata": {},
     "output_type": "execute_result"
    }
   ],
   "source": [
    "df.columns"
   ]
  },
  {
   "cell_type": "code",
   "execution_count": 35,
   "metadata": {
    "collapsed": true
   },
   "outputs": [],
   "source": [
    "cat_var_1 = ['UNIQUE_CARRIER_ENTITY', 'REGION', 'CARRIER_NAME', 'CARRIER_GROUP', 'CARRIER_GROUP_NEW', \n",
    "          'ORIGIN', 'ORIGIN_CITY_NAME', 'ORIGIN_STATE_NM', 'DEST', 'DEST_CITY_NAME', 'DEST_STATE_NM', \n",
    "          'AIRCRAFT_GROUP', 'AIRCRAFT_TYPE', 'AIRCRAFT_CONFIG', 'YEAR', 'QUARTER', 'MONTH', 'DISTANCE_GROUP', \n",
    "          'CLASS', 'loadfactor_level']"
   ]
  },
  {
   "cell_type": "code",
   "execution_count": 37,
   "metadata": {},
   "outputs": [
    {
     "data": {
      "image/png": "[encoded data removed]",
      "text/plain": [
       "<matplotlib.figure.Figure at 0x11b1769b0>"
      ]
     },
     "metadata": {},
     "output_type": "display_data"
    }
   ],
   "source": [
    "# clustering dataset\n",
    "# determine k using elbow method\n",
    "from sklearn.preprocessing import LabelEncoder\n",
    "from sklearn.cluster import KMeans\n",
    "from sklearn import metrics\n",
    "from scipy.spatial.distance import cdist\n",
    "import numpy as np\n",
    "import matplotlib.pyplot as plt\n",
    " \n",
    "X = df.drop('loadfactor_binned', axis=1)\n",
    "\n",
    "# Encode the categorical features\n",
    "for each in cat_var_1:\n",
    "    le = LabelEncoder()\n",
    "    le_fit = le.fit(X[each])\n",
    "    le_transform = le.transform(df[each])\n",
    "    X[each] = le_transform\n",
    "\n",
    "# Based off the elbow chart, we are going to choose 3 clusters\n",
    "from sklearn.preprocessing import normalize\n",
    "from sklearn.model_selection import train_test_split\n",
    "X_norm = normalize(X)\n",
    "\n",
    "X_train, X_test = train_test_split( \n",
    "    X_norm,\n",
    "    test_size=0.9,\n",
    "    random_state=42)\n",
    "\n",
    "km = KMeans(n_clusters=3, init='k-means++')\n",
    "km_fitrans = km.fit_transform(X_norm)\n",
    "    \n",
    "# Extract cluster assignments for each data point.\n",
    "labels_1 = km.labels_\n",
    "    \n",
    "plt.hist(labels_1)\n",
    "plt.show()\n",
    "\n",
    "df['clusters'] = labels_1"
   ]
  },
  {
   "cell_type": "code",
   "execution_count": 38,
   "metadata": {},
   "outputs": [
    {
     "data": {
      "text/plain": [
       "Index(['DEPARTURES_SCHEDULED', 'DEPARTURES_PERFORMED', 'PAYLOAD', 'SEATS',\n",
       "       'PASSENGERS', 'FREIGHT', 'MAIL', 'DISTANCE', 'RAMP_TO_RAMP', 'AIR_TIME',\n",
       "       'UNIQUE_CARRIER_ENTITY', 'REGION', 'CARRIER_NAME', 'CARRIER_GROUP',\n",
       "       'CARRIER_GROUP_NEW', 'ORIGIN', 'ORIGIN_CITY_NAME', 'ORIGIN_STATE_NM',\n",
       "       'DEST', 'DEST_CITY_NAME', 'DEST_STATE_NM', 'AIRCRAFT_GROUP',\n",
       "       'AIRCRAFT_TYPE', 'AIRCRAFT_CONFIG', 'YEAR', 'QUARTER', 'MONTH',\n",
       "       'DISTANCE_GROUP', 'CLASS', 'passenger_miles', 'seat_miles',\n",
       "       'load_factor', 'per_cap', 'loadfactor_level', 'loadfactor_binned',\n",
       "       'High', 'Low', 'Medium', 'clusters'],\n",
       "      dtype='object')"
      ]
     },
     "execution_count": 38,
     "metadata": {},
     "output_type": "execute_result"
    }
   ],
   "source": [
    "df.columns"
   ]
  },
  {
   "cell_type": "code",
   "execution_count": 39,
   "metadata": {},
   "outputs": [
    {
     "name": "stdout",
     "output_type": "stream",
     "text": [
      "Number of Features:  39\n",
      "Number of Observations:  323187\n"
     ]
    }
   ],
   "source": [
    "# Lets look at how many rows and observations there are now\n",
    "print('Number of Features: ', len(df.columns))\n",
    "print('Number of Observations: ', len(df))"
   ]
  },
  {
   "cell_type": "markdown",
   "metadata": {},
   "source": [
    "# PCA"
   ]
  },
  {
   "cell_type": "code",
   "execution_count": 41,
   "metadata": {},
   "outputs": [
    {
     "name": "stdout",
     "output_type": "stream",
     "text": [
      "Eigenvectors \n",
      "[[  3.69565633e-01  -2.26557764e-01   3.33970148e-03   3.06966909e-02\n",
      "    1.11574475e-01  -2.12498545e-03  -7.14751362e-02  -9.09989469e-02\n",
      "    2.11276629e-02  -2.28832324e-02  -4.27393793e-02  -3.60701144e-03\n",
      "    5.85814475e-02  -1.54353604e-03  -2.33853889e-01   3.25460493e-01\n",
      "   -7.74558882e-02   4.21886459e-01  -1.38071327e-01   5.65966264e-03\n",
      "    3.62881720e-01   5.07275861e-01   1.54645052e-01  -4.92962031e-02\n",
      "    0.00000000e+00   0.00000000e+00   0.00000000e+00   0.00000000e+00\n",
      "    0.00000000e+00]\n",
      " [  3.80730357e-01  -2.32426642e-01   4.90384918e-03   9.31133173e-03\n",
      "    1.05871437e-01  -1.65777153e-03  -6.63575901e-02  -7.71215462e-02\n",
      "    1.87071853e-02  -2.78488896e-02  -4.30107566e-02   1.05713141e-03\n",
      "    9.83970334e-03  -2.39370215e-02  -1.67763892e-01   2.49445257e-01\n",
      "   -5.65550197e-02   2.96592455e-01  -9.13821421e-02  -1.40584352e-01\n",
      "   -3.65037506e-01  -6.16908248e-01  -2.14676369e-01   7.83618971e-02\n",
      "    0.00000000e+00   0.00000000e+00   0.00000000e+00   0.00000000e+00\n",
      "    0.00000000e+00]\n",
      " [  3.93038243e-01  -6.79366427e-02  -3.30554757e-03  -3.84344284e-02\n",
      "    1.67157802e-02  -2.88776434e-03   8.86679962e-02   7.59691937e-02\n",
      "   -5.92584946e-03   4.51771786e-02   4.41747565e-03  -2.11516830e-02\n",
      "   -3.39768518e-02  -6.59077269e-02   3.15409172e-01  -5.12798936e-01\n",
      "   -1.22456786e-02   1.42104833e-01   8.09583310e-02  -4.55019384e-03\n",
      "    5.71417638e-01  -3.01792246e-01  -2.12130237e-02   1.00219840e-01\n",
      "    0.00000000e+00   0.00000000e+00   0.00000000e+00   0.00000000e+00\n",
      "    0.00000000e+00]\n",
      " [  4.04557286e-01  -8.65210712e-02  -1.61333871e-03  -6.29760546e-03\n",
      "    2.78749279e-02  -3.64498998e-03   4.11241174e-02   4.32289534e-02\n",
      "   -1.44746852e-03   3.11775003e-02  -4.42312843e-03  -1.62289249e-02\n",
      "   -8.73997336e-02  -6.00900193e-02   2.70287739e-01  -3.96156910e-01\n",
      "   -8.96001717e-03   1.02323018e-01   6.74088972e-02   2.64235707e-02\n",
      "   -6.16523609e-01   4.12554891e-01   4.12730002e-02  -1.18969950e-01\n",
      "    0.00000000e+00   0.00000000e+00   0.00000000e+00   0.00000000e+00\n",
      "    0.00000000e+00]\n",
      " [  1.06697710e-01   1.16672164e-01  -1.50319147e-02  -5.22325801e-02\n",
      "   -1.15516326e-01  -1.07796882e-02   5.00582008e-01   4.62361106e-01\n",
      "   -5.64336900e-02   4.13007563e-02   1.23969711e-01  -2.33232969e-01\n",
      "    4.79707354e-01  -3.96767210e-01  -7.66857755e-02   1.54233754e-01\n",
      "   -5.71500927e-03  -9.23298588e-03  -2.55136133e-02  -1.59764169e-03\n",
      "   -3.90776880e-02   5.94186747e-03  -1.45673985e-04  -5.10860392e-03\n",
      "    0.00000000e+00   0.00000000e+00   0.00000000e+00   0.00000000e+00\n",
      "    0.00000000e+00]\n",
      " [  1.37354799e-01   1.46000620e-01  -2.27283416e-02   1.28612760e-02\n",
      "   -1.17122299e-01  -9.32675781e-03   5.16283842e-01   2.08099888e-01\n",
      "   -7.20977541e-02  -4.78528001e-02  -4.14453397e-02  -1.20762359e-01\n",
      "   -3.80512360e-01   6.68107332e-01  -7.41175892e-02   1.09496617e-01\n",
      "   -4.81948393e-03   4.64881451e-02  -2.77117207e-02  -5.45197791e-03\n",
      "   -1.63516502e-04  -7.60595680e-03  -2.67079119e-03  -1.37064655e-04\n",
      "    0.00000000e+00   0.00000000e+00   0.00000000e+00   0.00000000e+00\n",
      "    0.00000000e+00]\n",
      " [  1.16375397e-01   5.46436636e-01   9.22800128e-03  -5.28777140e-02\n",
      "   -2.48697952e-01   3.32255515e-03  -1.85808352e-01  -4.82484773e-02\n",
      "    1.66212212e-02   2.48268626e-02   1.19220702e-01   1.07836906e-01\n",
      "    4.99329195e-02   1.36238689e-02  -1.07295325e-02   6.60809250e-03\n",
      "   -3.69531643e-02   2.12113205e-01  -1.93447201e-02   3.12959306e-03\n",
      "    2.23898369e-02   1.94001334e-01  -6.31272096e-01   2.70761225e-01\n",
      "    0.00000000e+00   0.00000000e+00   0.00000000e+00   0.00000000e+00\n",
      "    0.00000000e+00]\n",
      " [  4.17091758e-01   4.08813962e-02   8.42614484e-03  -2.54852903e-02\n",
      "   -3.14379095e-02   1.05835926e-03  -1.08488935e-01  -6.24040443e-02\n",
      "    3.41242903e-03  -2.24054988e-02   2.27710553e-02   2.48070744e-02\n",
      "    2.45733156e-02   2.58173629e-02  -9.30598284e-02   1.55606040e-01\n",
      "    7.49991628e-02  -4.55852140e-01   3.80095024e-02   7.42378480e-01\n",
      "    1.88215015e-02  -6.95461011e-02   2.29803906e-03   2.23935381e-03\n",
      "    0.00000000e+00   0.00000000e+00   0.00000000e+00   0.00000000e+00\n",
      "    0.00000000e+00]\n",
      " [  4.07345522e-01   9.25407233e-02   9.37606640e-03  -2.71090979e-02\n",
      "   -5.45717495e-02   3.76964378e-03  -1.16546148e-01  -5.12341623e-02\n",
      "    2.64901013e-03  -1.88668836e-02   3.66677995e-02   2.95534050e-02\n",
      "    1.83498861e-02   2.39696354e-02  -5.66311304e-02   1.16223431e-01\n",
      "    9.06948749e-02  -5.75307232e-01   5.94695820e-02  -6.54373854e-01\n",
      "    7.42156328e-02   7.83098740e-02   5.01607156e-02  -1.31688543e-02\n",
      "    0.00000000e+00   0.00000000e+00   0.00000000e+00   0.00000000e+00\n",
      "    0.00000000e+00]\n",
      " [  2.92364761e-02   9.54542230e-02  -1.02389242e-02   5.87583052e-01\n",
      "   -1.35727243e-02  -1.80070012e-02   2.26804905e-01  -3.21818114e-01\n",
      "    3.88822485e-02   3.03350946e-02   1.06040100e-02  -1.58962541e-02\n",
      "    8.60663444e-02  -5.70077463e-02  -5.47758663e-01  -4.08977605e-01\n",
      "    8.65401191e-04  -4.49923827e-02  -7.79716318e-02  -3.03822017e-03\n",
      "   -1.31528700e-02  -1.01312017e-02  -3.21863318e-03  -1.61912185e-03\n",
      "    0.00000000e+00   0.00000000e+00   0.00000000e+00   0.00000000e+00\n",
      "    0.00000000e+00]\n",
      " [  0.00000000e+00   0.00000000e+00   0.00000000e+00   0.00000000e+00\n",
      "    0.00000000e+00   0.00000000e+00   0.00000000e+00   0.00000000e+00\n",
      "    0.00000000e+00   0.00000000e+00   0.00000000e+00   0.00000000e+00\n",
      "    0.00000000e+00   0.00000000e+00   0.00000000e+00   0.00000000e+00\n",
      "    0.00000000e+00   0.00000000e+00   0.00000000e+00   0.00000000e+00\n",
      "    0.00000000e+00   0.00000000e+00   0.00000000e+00   0.00000000e+00\n",
      "    1.00000000e+00   0.00000000e+00   0.00000000e+00   0.00000000e+00\n",
      "    0.00000000e+00]\n",
      " [  3.42683128e-02   8.86254088e-02   4.44807164e-02   6.03658850e-01\n",
      "   -5.86993365e-02  -1.93758925e-02   1.99375355e-01  -2.15714385e-01\n",
      "    1.43363283e-02   8.19037476e-03  -3.37568693e-02   9.64164562e-02\n",
      "   -8.59447115e-02  -1.64939143e-01   5.76287841e-01   3.92522051e-01\n",
      "    2.27158982e-03   1.23448663e-02   4.45572502e-02   4.16155537e-03\n",
      "    2.28938015e-02  -1.56485437e-02   8.32449613e-03   2.22884029e-03\n",
      "    0.00000000e+00   0.00000000e+00   0.00000000e+00   0.00000000e+00\n",
      "    0.00000000e+00]\n",
      " [  0.00000000e+00   0.00000000e+00   0.00000000e+00   0.00000000e+00\n",
      "    0.00000000e+00   0.00000000e+00   0.00000000e+00   0.00000000e+00\n",
      "    0.00000000e+00   0.00000000e+00   0.00000000e+00   0.00000000e+00\n",
      "    0.00000000e+00   0.00000000e+00   0.00000000e+00   0.00000000e+00\n",
      "    0.00000000e+00   0.00000000e+00   0.00000000e+00   0.00000000e+00\n",
      "    0.00000000e+00   0.00000000e+00   0.00000000e+00   0.00000000e+00\n",
      "    0.00000000e+00   1.00000000e+00   0.00000000e+00   0.00000000e+00\n",
      "    0.00000000e+00]\n",
      " [  0.00000000e+00   0.00000000e+00   0.00000000e+00   0.00000000e+00\n",
      "    0.00000000e+00   0.00000000e+00   0.00000000e+00   0.00000000e+00\n",
      "    0.00000000e+00   0.00000000e+00   0.00000000e+00   0.00000000e+00\n",
      "    0.00000000e+00   0.00000000e+00   0.00000000e+00   0.00000000e+00\n",
      "    0.00000000e+00   0.00000000e+00   0.00000000e+00   0.00000000e+00\n",
      "    0.00000000e+00   0.00000000e+00   0.00000000e+00   0.00000000e+00\n",
      "    0.00000000e+00   0.00000000e+00   1.00000000e+00   0.00000000e+00\n",
      "    0.00000000e+00]\n",
      " [  1.30066404e-02   2.18432346e-01  -6.25509511e-03  -1.54759468e-02\n",
      "    4.52380807e-01  -4.76486767e-01   4.47289669e-02   3.65226939e-02\n",
      "    1.50615523e-01   3.75836574e-02  -1.18460736e-01   3.15525961e-02\n",
      "    1.78743755e-02   6.91946690e-03  -7.04670507e-02   4.91035132e-02\n",
      "   -4.73355407e-01  -2.53216369e-02   4.95154753e-01   1.28339172e-05\n",
      "    1.60896032e-03   4.43078498e-03  -5.52309082e-03   3.03179477e-03\n",
      "    0.00000000e+00   0.00000000e+00   0.00000000e+00   0.00000000e+00\n",
      "    0.00000000e+00]\n",
      " [  1.39379834e-02   2.32136418e-01  -5.25849523e-03  -3.71286915e-02\n",
      "    4.45225344e-01  -4.93867633e-01   1.18081558e-02   2.17454090e-02\n",
      "    4.75536614e-03  -1.89709355e-02   6.99903305e-03  -2.89212685e-03\n",
      "   -1.16230884e-03  -2.51895790e-03   9.24372628e-02  -2.90945317e-02\n",
      "    4.85275162e-01   8.41803013e-03  -5.06180724e-01  -2.13209772e-04\n",
      "   -4.17474939e-03  -7.99445614e-03   7.40826463e-03  -3.51375108e-03\n",
      "    0.00000000e+00   0.00000000e+00   0.00000000e+00   0.00000000e+00\n",
      "    0.00000000e+00]\n",
      " [ -1.53446593e-02  -3.98260421e-02  -1.01019924e-02  -1.09544502e-02\n",
      "    1.03799714e-01  -1.20351221e-01  -1.18873673e-02  -2.03372801e-01\n",
      "   -6.51458373e-01  -3.40044562e-01   5.84732375e-01  -1.61267822e-01\n",
      "   -1.87666608e-02   7.74322027e-03   2.82815818e-02  -9.56431848e-04\n",
      "   -1.07371097e-01   2.13589304e-02   1.00223196e-01  -6.51206644e-04\n",
      "    1.47478048e-03  -1.18009495e-04   1.73750457e-03  -4.61872376e-04\n",
      "    0.00000000e+00   0.00000000e+00   0.00000000e+00   0.00000000e+00\n",
      "    0.00000000e+00]\n",
      " [  1.87967483e-02   2.12435162e-01  -1.57552623e-03   1.46464153e-02\n",
      "    4.37961305e-01   4.90923346e-01   4.01652156e-02   2.25292304e-03\n",
      "   -1.68634369e-01   3.68694762e-02  -1.09838272e-01   1.56717031e-02\n",
      "    2.75963410e-02  -7.42031746e-03  -8.04465098e-02   5.32583079e-02\n",
      "    4.91337209e-01   1.38356839e-01   4.54975951e-01  -2.57332447e-03\n",
      "   -8.74588116e-04   3.95684885e-03  -6.66015782e-03   3.12685871e-03\n",
      "    0.00000000e+00   0.00000000e+00   0.00000000e+00   0.00000000e+00\n",
      "    0.00000000e+00]\n",
      " [  1.76094658e-02   2.25543337e-01   5.96824293e-05  -7.21034742e-03\n",
      "    4.32814042e-01   5.08340732e-01   2.38752574e-02   2.51438852e-02\n",
      "   -1.27647757e-02  -2.83445282e-02   7.02243008e-03  -1.31322370e-02\n",
      "   -5.63285540e-03   5.72903561e-05   1.02998013e-01  -3.71968016e-02\n",
      "   -4.98684283e-01  -1.46087460e-01  -4.67357545e-01   4.92544745e-03\n",
      "   -3.07150658e-03  -7.54945265e-03   7.79267634e-03  -3.67203080e-03\n",
      "    0.00000000e+00   0.00000000e+00   0.00000000e+00   0.00000000e+00\n",
      "    0.00000000e+00]\n",
      " [ -1.59765558e-02  -3.17934734e-02  -7.19690283e-03  -1.62126693e-03\n",
      "    9.78508876e-02   1.17569246e-01   4.85238953e-02  -1.94571654e-02\n",
      "    7.09945959e-01  -3.61143261e-01   5.42871019e-01  -1.29234560e-01\n",
      "   -4.45835093e-02   3.66792911e-02   2.70811625e-02   1.00681646e-02\n",
      "    1.09905717e-01   3.59644169e-02   9.55570620e-02   1.19341965e-03\n",
      "    2.66613924e-03   6.57211068e-05   3.07491335e-03  -1.06143308e-03\n",
      "    0.00000000e+00   0.00000000e+00   0.00000000e+00   0.00000000e+00\n",
      "    0.00000000e+00]\n",
      " [  3.48188468e-03   8.60910779e-02  -4.94849822e-02  -3.92648987e-01\n",
      "   -5.82462137e-02   9.82020614e-03   3.66997758e-01  -3.16687507e-01\n",
      "    2.16943286e-02  -3.34342754e-02  -4.76256692e-02   1.43654442e-01\n",
      "   -5.34220380e-01  -5.13988282e-01  -1.38503571e-01   5.37122571e-02\n",
      "    1.82391592e-04  -1.30043654e-02  -2.18016859e-02   8.40735827e-04\n",
      "    2.23258120e-02   9.79292357e-03   1.04307908e-02  -1.26477574e-03\n",
      "    0.00000000e+00   0.00000000e+00   0.00000000e+00   0.00000000e+00\n",
      "    0.00000000e+00]\n",
      " [ -1.03350757e-02  -2.69189599e-02  -5.08829171e-02  -3.33079339e-01\n",
      "   -2.20639546e-02   1.17567904e-02   3.28722956e-01  -5.71710533e-01\n",
      "    5.91686121e-02  -7.92246465e-02  -1.37515117e-01   1.15849649e-01\n",
      "    5.44218287e-01   2.79700430e-01   1.78707187e-01  -2.30482092e-02\n",
      "    2.78649803e-03   2.71480469e-04  -3.77220245e-04  -5.98757682e-03\n",
      "   -3.15655546e-02   6.90734575e-03  -4.65663076e-03  -2.98337656e-03\n",
      "    0.00000000e+00   0.00000000e+00   0.00000000e+00   0.00000000e+00\n",
      "    0.00000000e+00]\n",
      " [  0.00000000e+00   0.00000000e+00   0.00000000e+00   0.00000000e+00\n",
      "    0.00000000e+00   0.00000000e+00   0.00000000e+00   0.00000000e+00\n",
      "    0.00000000e+00   0.00000000e+00   0.00000000e+00   0.00000000e+00\n",
      "    0.00000000e+00   0.00000000e+00   0.00000000e+00   0.00000000e+00\n",
      "    0.00000000e+00   0.00000000e+00   0.00000000e+00   0.00000000e+00\n",
      "    0.00000000e+00   0.00000000e+00   0.00000000e+00   0.00000000e+00\n",
      "    0.00000000e+00   0.00000000e+00   0.00000000e+00   1.00000000e+00\n",
      "    0.00000000e+00]\n",
      " [ -1.21973011e-02   1.19409128e-02  -6.06100519e-03  -8.25615262e-02\n",
      "    3.41281055e-02   6.05270506e-03  -3.80558793e-02  -2.71640124e-01\n",
      "    6.66764611e-02   7.15870354e-01   2.23301242e-01  -5.78645891e-01\n",
      "   -7.11527057e-02   4.30258776e-02   5.11783889e-02   7.17017473e-02\n",
      "    9.31086025e-04  -3.20273270e-03   9.09817621e-03  -5.65496434e-04\n",
      "   -6.32622505e-04  -5.99410617e-03  -1.43021902e-03  -7.82502647e-05\n",
      "    0.00000000e+00   0.00000000e+00   0.00000000e+00   0.00000000e+00\n",
      "    0.00000000e+00]\n",
      " [  5.62839315e-03  -2.96339463e-05  -7.04038009e-01   4.07250684e-02\n",
      "   -3.72655227e-03   2.92048247e-03  -3.70341942e-02   2.03030201e-02\n",
      "   -4.02395243e-04   1.03809492e-02   4.08273259e-03   1.09250717e-02\n",
      "   -5.86053763e-04  -7.14241216e-04   1.62889401e-02   1.57873448e-02\n",
      "   -1.57092275e-06  -8.17167784e-04  -1.27040510e-04   2.70544155e-03\n",
      "   -8.26319914e-02   3.15436858e-02   2.82889315e-01   6.42041523e-01\n",
      "    0.00000000e+00   0.00000000e+00   0.00000000e+00   0.00000000e+00\n",
      "    0.00000000e+00]\n",
      " [  5.08496558e-03   4.39977698e-04  -7.04011985e-01   4.07030116e-02\n",
      "   -3.54145322e-03   2.77197860e-03  -3.73512216e-02   2.09286722e-02\n",
      "   -6.19736111e-04   9.39426877e-03   3.45406911e-03   1.15310502e-02\n",
      "   -1.37791152e-03  -3.66136634e-03   2.03501569e-02   1.55370248e-02\n",
      "    4.05483306e-04  -2.89705480e-03   1.85826256e-03  -2.59855687e-03\n",
      "    8.41915718e-02  -3.49719604e-02  -2.82954577e-01  -6.41508622e-01\n",
      "    0.00000000e+00   0.00000000e+00   0.00000000e+00   0.00000000e+00\n",
      "    0.00000000e+00]\n",
      " [  1.12950164e-01   5.46629273e-01   8.51793459e-03  -5.84810294e-02\n",
      "   -2.54070941e-01   3.02801410e-03  -2.00235517e-01  -5.37398367e-02\n",
      "    1.70538141e-02   2.60546199e-04   8.29202286e-02   6.71032909e-02\n",
      "    5.54007557e-02   1.42966319e-02  -2.01338925e-02   3.51771119e-03\n",
      "   -4.49366243e-02   2.68424504e-01  -2.47958198e-03  -1.33677329e-03\n",
      "   -6.54001422e-02  -2.21551481e-01   6.04156971e-01  -2.63808517e-01\n",
      "    0.00000000e+00   0.00000000e+00   0.00000000e+00   0.00000000e+00\n",
      "    0.00000000e+00]\n",
      " [  0.00000000e+00   0.00000000e+00   0.00000000e+00   0.00000000e+00\n",
      "    0.00000000e+00   0.00000000e+00   0.00000000e+00   0.00000000e+00\n",
      "    0.00000000e+00   0.00000000e+00   0.00000000e+00   0.00000000e+00\n",
      "    0.00000000e+00   0.00000000e+00   0.00000000e+00   0.00000000e+00\n",
      "    0.00000000e+00   0.00000000e+00   0.00000000e+00   0.00000000e+00\n",
      "    0.00000000e+00   0.00000000e+00   0.00000000e+00   0.00000000e+00\n",
      "    0.00000000e+00   0.00000000e+00   0.00000000e+00   0.00000000e+00\n",
      "    1.00000000e+00]\n",
      " [ -6.78841817e-04   1.20612804e-01  -1.44453833e-02   6.94478880e-03\n",
      "   -8.24224116e-02  -8.79450566e-03  -1.37332679e-01  -1.15098786e-01\n",
      "    1.82539202e-02  -4.68166317e-01  -4.70219667e-01  -6.99894754e-01\n",
      "   -3.72628690e-02  -9.89769728e-02   4.66717743e-02  -2.07492384e-02\n",
      "    1.60227577e-03   4.15462249e-04   8.99918445e-03  -1.36135061e-04\n",
      "    1.13621255e-02   1.14093358e-02  -3.60844036e-02   1.74769473e-02\n",
      "    0.00000000e+00   0.00000000e+00   0.00000000e+00   0.00000000e+00\n",
      "    0.00000000e+00]]\n",
      "\n",
      "Eigenvalues \n",
      "[  5.26480700e+00   2.44021230e+00   1.97763143e+00   1.78817558e+00\n",
      "   1.63817812e+00   1.74474272e+00   1.14039966e+00   1.06951703e+00\n",
      "   1.03273679e+00   1.01115591e+00   9.38931750e-01   9.75683396e-01\n",
      "   6.98971341e-01   7.67946709e-01   3.81760307e-01   3.50324024e-01\n",
      "   2.33059408e-01   2.05543614e-01   2.15089597e-01   1.24680573e-03\n",
      "   3.53105260e-02   3.23367524e-02   2.81192266e-02   2.81942741e-02\n",
      "   0.00000000e+00   0.00000000e+00   0.00000000e+00   0.00000000e+00\n",
      "   0.00000000e+00]\n"
     ]
    }
   ],
   "source": [
    "from sklearn.preprocessing import StandardScaler\n",
    "from sklearn.preprocessing import LabelEncoder\n",
    "cat_var_pca = ['UNIQUE_CARRIER_ENTITY', 'REGION', 'CARRIER_NAME', 'CARRIER_GROUP', 'CARRIER_GROUP_NEW', \n",
    "          'ORIGIN', 'ORIGIN_CITY_NAME', 'ORIGIN_STATE_NM', 'DEST', 'DEST_CITY_NAME', 'DEST_STATE_NM', \n",
    "          'AIRCRAFT_GROUP', 'AIRCRAFT_TYPE', 'AIRCRAFT_CONFIG', 'YEAR', 'QUARTER', 'MONTH', 'DISTANCE_GROUP', \n",
    "          'CLASS']\n",
    "\n",
    "X = df.drop(['loadfactor_level', 'loadfactor_binned', 'High', 'Low', 'Medium',\n",
    "            'load_factor', 'per_cap', 'passenger_miles', 'seat_miles', 'PASSENGERS'], axis=1)\n",
    "y = df['loadfactor_level']\n",
    "\n",
    "for each in cat_var_pca:\n",
    "    le = LabelEncoder()\n",
    "    le_fitra = le.fit_transform(X[each])\n",
    "    X[each] = le_fitra\n",
    "    \n",
    "X_std = StandardScaler().fit_transform(X)\n",
    "\n",
    "cov_mat = np.cov(X_std.T)\n",
    "\n",
    "eig_vals, eig_vecs = np.linalg.eig(cov_mat)\n",
    "\n",
    "print('Eigenvectors \\n%s' %eig_vecs)\n",
    "print('\\nEigenvalues \\n%s' %eig_vals)"
   ]
  },
  {
   "cell_type": "code",
   "execution_count": 42,
   "metadata": {},
   "outputs": [
    {
     "name": "stdout",
     "output_type": "stream",
     "text": [
      "Eigenvalues in descending order:\n",
      "5.26480700149\n",
      "2.44021230239\n",
      "1.97763143049\n",
      "1.78817558175\n",
      "1.7447427164\n",
      "1.63817811971\n",
      "1.14039965653\n",
      "1.06951702782\n",
      "1.0327367869\n",
      "1.01115590633\n",
      "0.975683396117\n",
      "0.938931749581\n",
      "0.767946708626\n",
      "0.698971341088\n",
      "0.381760306689\n",
      "0.350324024448\n",
      "0.233059408241\n",
      "0.215089597052\n",
      "0.205543614024\n",
      "0.0353105260321\n",
      "0.0323367524419\n",
      "0.0281942741492\n",
      "0.0281192266071\n",
      "0.00124680573118\n",
      "0.0\n",
      "0.0\n",
      "0.0\n",
      "0.0\n",
      "0.0\n"
     ]
    }
   ],
   "source": [
    "# Select principal components\n",
    "# Sorting eigenpairs\n",
    "for ev in eig_vecs:\n",
    "    np.testing.assert_array_almost_equal(1.0, np.linalg.norm(ev))\n",
    "    \n",
    "# Make a list of (eigenvalue, eigenvector) tuples\n",
    "eig_pairs = [(np.abs(eig_vals[i]), eig_vecs[:,i]) for i in range(len(eig_vals))]\n",
    "\n",
    "# Sort the (eigenvalue, eigenvector) tuples from high to low\n",
    "eig_pairs.sort(key=lambda x: x[0], reverse=True)\n",
    "\n",
    "# Visually confirm that the list is correctly sorted by decreasing eigenvalues\n",
    "print('Eigenvalues in descending order:')\n",
    "for i in eig_pairs:\n",
    "    print(i[0])"
   ]
  },
  {
   "cell_type": "code",
   "execution_count": 43,
   "metadata": {},
   "outputs": [
    {
     "data": {
      "image/png": "[encoded data removed]",
      "text/plain": [
       "<matplotlib.figure.Figure at 0x11854d9e8>"
      ]
     },
     "metadata": {},
     "output_type": "display_data"
    }
   ],
   "source": [
    "# Explained variance\n",
    "tot = sum(eig_vals)\n",
    "var_exp = [(i / tot)*100 for i in sorted(eig_vals, reverse=True)]\n",
    "cum_var_exp = np.cumsum(var_exp)\n",
    "\n",
    "with plt.style.context('seaborn-whitegrid'):\n",
    "    plt.figure(figsize=(20, 10))\n",
    "\n",
    "    plt.bar(range(len(eig_pairs)), var_exp, alpha=0.5, align='center',\n",
    "            label='individual explained variance')\n",
    "    plt.step(range(len(eig_pairs)), cum_var_exp, where='mid',\n",
    "             label='cumulative explained variance')\n",
    "    plt.ylabel('Explained variance ratio')\n",
    "    plt.xlabel('Principal components')\n",
    "    plt.legend(loc='best')\n",
    "    plt.tight_layout()"
   ]
  },
  {
   "cell_type": "code",
   "execution_count": 44,
   "metadata": {
    "collapsed": true
   },
   "outputs": [],
   "source": [
    "from sklearn.decomposition import PCA as sklearnPCA\n",
    "sklearn_pca = sklearnPCA(n_components=10)\n",
    "Y_sklearn = sklearn_pca.fit_transform(X_std)"
   ]
  },
  {
   "cell_type": "code",
   "execution_count": 45,
   "metadata": {},
   "outputs": [
    {
     "data": {
      "text/html": [
       "<div>\n",
       "<style>\n",
       "    .dataframe thead tr:only-child th {\n",
       "        text-align: right;\n",
       "    }\n",
       "\n",
       "    .dataframe thead th {\n",
       "        text-align: left;\n",
       "    }\n",
       "\n",
       "    .dataframe tbody tr th {\n",
       "        vertical-align: top;\n",
       "    }\n",
       "</style>\n",
       "<table border=\"1\" class=\"dataframe\">\n",
       "  <thead>\n",
       "    <tr style=\"text-align: right;\">\n",
       "      <th></th>\n",
       "      <th>DEPARTURES_SCHEDULED</th>\n",
       "      <th>DEPARTURES_PERFORMED</th>\n",
       "      <th>PAYLOAD</th>\n",
       "      <th>SEATS</th>\n",
       "      <th>PASSENGERS</th>\n",
       "      <th>FREIGHT</th>\n",
       "      <th>MAIL</th>\n",
       "      <th>DISTANCE</th>\n",
       "      <th>RAMP_TO_RAMP</th>\n",
       "      <th>AIR_TIME</th>\n",
       "      <th>...</th>\n",
       "      <th>DEST_CITY_NAME</th>\n",
       "      <th>DEST_STATE_NM</th>\n",
       "      <th>AIRCRAFT_GROUP</th>\n",
       "      <th>AIRCRAFT_TYPE</th>\n",
       "      <th>AIRCRAFT_CONFIG</th>\n",
       "      <th>YEAR</th>\n",
       "      <th>QUARTER</th>\n",
       "      <th>MONTH</th>\n",
       "      <th>DISTANCE_GROUP</th>\n",
       "      <th>CLASS</th>\n",
       "    </tr>\n",
       "  </thead>\n",
       "  <tbody>\n",
       "    <tr>\n",
       "      <th>PC-1</th>\n",
       "      <td>0.369566</td>\n",
       "      <td>0.380730</td>\n",
       "      <td>0.393038</td>\n",
       "      <td>0.404557</td>\n",
       "      <td>0.106698</td>\n",
       "      <td>0.137355</td>\n",
       "      <td>0.116375</td>\n",
       "      <td>0.417092</td>\n",
       "      <td>0.407346</td>\n",
       "      <td>0.029236</td>\n",
       "      <td>...</td>\n",
       "      <td>-0.015977</td>\n",
       "      <td>0.003482</td>\n",
       "      <td>-0.010335</td>\n",
       "      <td>0.0</td>\n",
       "      <td>-0.012197</td>\n",
       "      <td>0.005628</td>\n",
       "      <td>0.005085</td>\n",
       "      <td>0.112950</td>\n",
       "      <td>0.0</td>\n",
       "      <td>-0.000679</td>\n",
       "    </tr>\n",
       "    <tr>\n",
       "      <th>PC-2</th>\n",
       "      <td>-0.226558</td>\n",
       "      <td>-0.232427</td>\n",
       "      <td>-0.067937</td>\n",
       "      <td>-0.086521</td>\n",
       "      <td>0.116672</td>\n",
       "      <td>0.146001</td>\n",
       "      <td>0.546437</td>\n",
       "      <td>0.040881</td>\n",
       "      <td>0.092541</td>\n",
       "      <td>0.095454</td>\n",
       "      <td>...</td>\n",
       "      <td>-0.031793</td>\n",
       "      <td>0.086091</td>\n",
       "      <td>-0.026919</td>\n",
       "      <td>-0.0</td>\n",
       "      <td>0.011941</td>\n",
       "      <td>-0.000030</td>\n",
       "      <td>0.000440</td>\n",
       "      <td>0.546629</td>\n",
       "      <td>-0.0</td>\n",
       "      <td>0.120613</td>\n",
       "    </tr>\n",
       "    <tr>\n",
       "      <th>PC-3</th>\n",
       "      <td>-0.003340</td>\n",
       "      <td>-0.004904</td>\n",
       "      <td>0.003306</td>\n",
       "      <td>0.001613</td>\n",
       "      <td>0.015032</td>\n",
       "      <td>0.022728</td>\n",
       "      <td>-0.009228</td>\n",
       "      <td>-0.008426</td>\n",
       "      <td>-0.009376</td>\n",
       "      <td>0.010239</td>\n",
       "      <td>...</td>\n",
       "      <td>0.007197</td>\n",
       "      <td>0.049485</td>\n",
       "      <td>0.050883</td>\n",
       "      <td>-0.0</td>\n",
       "      <td>0.006061</td>\n",
       "      <td>0.704038</td>\n",
       "      <td>0.704012</td>\n",
       "      <td>-0.008518</td>\n",
       "      <td>-0.0</td>\n",
       "      <td>0.014445</td>\n",
       "    </tr>\n",
       "    <tr>\n",
       "      <th>PC-4</th>\n",
       "      <td>-0.030697</td>\n",
       "      <td>-0.009311</td>\n",
       "      <td>0.038434</td>\n",
       "      <td>0.006298</td>\n",
       "      <td>0.052233</td>\n",
       "      <td>-0.012861</td>\n",
       "      <td>0.052878</td>\n",
       "      <td>0.025485</td>\n",
       "      <td>0.027109</td>\n",
       "      <td>-0.587583</td>\n",
       "      <td>...</td>\n",
       "      <td>0.001621</td>\n",
       "      <td>0.392649</td>\n",
       "      <td>0.333079</td>\n",
       "      <td>0.0</td>\n",
       "      <td>0.082562</td>\n",
       "      <td>-0.040725</td>\n",
       "      <td>-0.040703</td>\n",
       "      <td>0.058481</td>\n",
       "      <td>0.0</td>\n",
       "      <td>-0.006945</td>\n",
       "    </tr>\n",
       "    <tr>\n",
       "      <th>PC-5</th>\n",
       "      <td>-0.002125</td>\n",
       "      <td>-0.001658</td>\n",
       "      <td>-0.002888</td>\n",
       "      <td>-0.003645</td>\n",
       "      <td>-0.010780</td>\n",
       "      <td>-0.009327</td>\n",
       "      <td>0.003323</td>\n",
       "      <td>0.001058</td>\n",
       "      <td>0.003770</td>\n",
       "      <td>-0.018007</td>\n",
       "      <td>...</td>\n",
       "      <td>0.117569</td>\n",
       "      <td>0.009820</td>\n",
       "      <td>0.011757</td>\n",
       "      <td>-0.0</td>\n",
       "      <td>0.006053</td>\n",
       "      <td>0.002920</td>\n",
       "      <td>0.002772</td>\n",
       "      <td>0.003028</td>\n",
       "      <td>-0.0</td>\n",
       "      <td>-0.008795</td>\n",
       "    </tr>\n",
       "    <tr>\n",
       "      <th>PC-6</th>\n",
       "      <td>-0.111574</td>\n",
       "      <td>-0.105871</td>\n",
       "      <td>-0.016716</td>\n",
       "      <td>-0.027875</td>\n",
       "      <td>0.115516</td>\n",
       "      <td>0.117122</td>\n",
       "      <td>0.248698</td>\n",
       "      <td>0.031438</td>\n",
       "      <td>0.054572</td>\n",
       "      <td>0.013573</td>\n",
       "      <td>...</td>\n",
       "      <td>-0.097851</td>\n",
       "      <td>0.058246</td>\n",
       "      <td>0.022064</td>\n",
       "      <td>-0.0</td>\n",
       "      <td>-0.034128</td>\n",
       "      <td>0.003727</td>\n",
       "      <td>0.003541</td>\n",
       "      <td>0.254071</td>\n",
       "      <td>-0.0</td>\n",
       "      <td>0.082422</td>\n",
       "    </tr>\n",
       "    <tr>\n",
       "      <th>PC-7</th>\n",
       "      <td>-0.071475</td>\n",
       "      <td>-0.066358</td>\n",
       "      <td>0.088668</td>\n",
       "      <td>0.041124</td>\n",
       "      <td>0.500582</td>\n",
       "      <td>0.516284</td>\n",
       "      <td>-0.185808</td>\n",
       "      <td>-0.108489</td>\n",
       "      <td>-0.116546</td>\n",
       "      <td>0.226805</td>\n",
       "      <td>...</td>\n",
       "      <td>0.048524</td>\n",
       "      <td>0.366998</td>\n",
       "      <td>0.328723</td>\n",
       "      <td>-0.0</td>\n",
       "      <td>-0.038056</td>\n",
       "      <td>-0.037034</td>\n",
       "      <td>-0.037351</td>\n",
       "      <td>-0.200236</td>\n",
       "      <td>-0.0</td>\n",
       "      <td>-0.137333</td>\n",
       "    </tr>\n",
       "    <tr>\n",
       "      <th>PC-8</th>\n",
       "      <td>-0.090999</td>\n",
       "      <td>-0.077122</td>\n",
       "      <td>0.075969</td>\n",
       "      <td>0.043229</td>\n",
       "      <td>0.462361</td>\n",
       "      <td>0.208100</td>\n",
       "      <td>-0.048248</td>\n",
       "      <td>-0.062404</td>\n",
       "      <td>-0.051234</td>\n",
       "      <td>-0.321818</td>\n",
       "      <td>...</td>\n",
       "      <td>-0.019457</td>\n",
       "      <td>-0.316688</td>\n",
       "      <td>-0.571711</td>\n",
       "      <td>-0.0</td>\n",
       "      <td>-0.271640</td>\n",
       "      <td>0.020303</td>\n",
       "      <td>0.020929</td>\n",
       "      <td>-0.053740</td>\n",
       "      <td>-0.0</td>\n",
       "      <td>-0.115099</td>\n",
       "    </tr>\n",
       "    <tr>\n",
       "      <th>PC-9</th>\n",
       "      <td>-0.021128</td>\n",
       "      <td>-0.018707</td>\n",
       "      <td>0.005926</td>\n",
       "      <td>0.001447</td>\n",
       "      <td>0.056434</td>\n",
       "      <td>0.072098</td>\n",
       "      <td>-0.016621</td>\n",
       "      <td>-0.003412</td>\n",
       "      <td>-0.002649</td>\n",
       "      <td>-0.038882</td>\n",
       "      <td>...</td>\n",
       "      <td>-0.709946</td>\n",
       "      <td>-0.021694</td>\n",
       "      <td>-0.059169</td>\n",
       "      <td>-0.0</td>\n",
       "      <td>-0.066676</td>\n",
       "      <td>0.000402</td>\n",
       "      <td>0.000620</td>\n",
       "      <td>-0.017054</td>\n",
       "      <td>-0.0</td>\n",
       "      <td>-0.018254</td>\n",
       "    </tr>\n",
       "    <tr>\n",
       "      <th>PC-10</th>\n",
       "      <td>-0.022883</td>\n",
       "      <td>-0.027849</td>\n",
       "      <td>0.045177</td>\n",
       "      <td>0.031178</td>\n",
       "      <td>0.041301</td>\n",
       "      <td>-0.047853</td>\n",
       "      <td>0.024827</td>\n",
       "      <td>-0.022405</td>\n",
       "      <td>-0.018867</td>\n",
       "      <td>0.030335</td>\n",
       "      <td>...</td>\n",
       "      <td>-0.361143</td>\n",
       "      <td>-0.033434</td>\n",
       "      <td>-0.079225</td>\n",
       "      <td>0.0</td>\n",
       "      <td>0.715870</td>\n",
       "      <td>0.010381</td>\n",
       "      <td>0.009394</td>\n",
       "      <td>0.000261</td>\n",
       "      <td>0.0</td>\n",
       "      <td>-0.468166</td>\n",
       "    </tr>\n",
       "  </tbody>\n",
       "</table>\n",
       "<p>10 rows × 29 columns</p>\n",
       "</div>"
      ],
      "text/plain": [
       "       DEPARTURES_SCHEDULED  DEPARTURES_PERFORMED   PAYLOAD     SEATS  \\\n",
       "PC-1               0.369566              0.380730  0.393038  0.404557   \n",
       "PC-2              -0.226558             -0.232427 -0.067937 -0.086521   \n",
       "PC-3              -0.003340             -0.004904  0.003306  0.001613   \n",
       "PC-4              -0.030697             -0.009311  0.038434  0.006298   \n",
       "PC-5              -0.002125             -0.001658 -0.002888 -0.003645   \n",
       "PC-6              -0.111574             -0.105871 -0.016716 -0.027875   \n",
       "PC-7              -0.071475             -0.066358  0.088668  0.041124   \n",
       "PC-8              -0.090999             -0.077122  0.075969  0.043229   \n",
       "PC-9              -0.021128             -0.018707  0.005926  0.001447   \n",
       "PC-10             -0.022883             -0.027849  0.045177  0.031178   \n",
       "\n",
       "       PASSENGERS   FREIGHT      MAIL  DISTANCE  RAMP_TO_RAMP  AIR_TIME  \\\n",
       "PC-1     0.106698  0.137355  0.116375  0.417092      0.407346  0.029236   \n",
       "PC-2     0.116672  0.146001  0.546437  0.040881      0.092541  0.095454   \n",
       "PC-3     0.015032  0.022728 -0.009228 -0.008426     -0.009376  0.010239   \n",
       "PC-4     0.052233 -0.012861  0.052878  0.025485      0.027109 -0.587583   \n",
       "PC-5    -0.010780 -0.009327  0.003323  0.001058      0.003770 -0.018007   \n",
       "PC-6     0.115516  0.117122  0.248698  0.031438      0.054572  0.013573   \n",
       "PC-7     0.500582  0.516284 -0.185808 -0.108489     -0.116546  0.226805   \n",
       "PC-8     0.462361  0.208100 -0.048248 -0.062404     -0.051234 -0.321818   \n",
       "PC-9     0.056434  0.072098 -0.016621 -0.003412     -0.002649 -0.038882   \n",
       "PC-10    0.041301 -0.047853  0.024827 -0.022405     -0.018867  0.030335   \n",
       "\n",
       "         ...     DEST_CITY_NAME  DEST_STATE_NM  AIRCRAFT_GROUP  AIRCRAFT_TYPE  \\\n",
       "PC-1     ...          -0.015977       0.003482       -0.010335            0.0   \n",
       "PC-2     ...          -0.031793       0.086091       -0.026919           -0.0   \n",
       "PC-3     ...           0.007197       0.049485        0.050883           -0.0   \n",
       "PC-4     ...           0.001621       0.392649        0.333079            0.0   \n",
       "PC-5     ...           0.117569       0.009820        0.011757           -0.0   \n",
       "PC-6     ...          -0.097851       0.058246        0.022064           -0.0   \n",
       "PC-7     ...           0.048524       0.366998        0.328723           -0.0   \n",
       "PC-8     ...          -0.019457      -0.316688       -0.571711           -0.0   \n",
       "PC-9     ...          -0.709946      -0.021694       -0.059169           -0.0   \n",
       "PC-10    ...          -0.361143      -0.033434       -0.079225            0.0   \n",
       "\n",
       "       AIRCRAFT_CONFIG      YEAR   QUARTER     MONTH  DISTANCE_GROUP     CLASS  \n",
       "PC-1         -0.012197  0.005628  0.005085  0.112950             0.0 -0.000679  \n",
       "PC-2          0.011941 -0.000030  0.000440  0.546629            -0.0  0.120613  \n",
       "PC-3          0.006061  0.704038  0.704012 -0.008518            -0.0  0.014445  \n",
       "PC-4          0.082562 -0.040725 -0.040703  0.058481             0.0 -0.006945  \n",
       "PC-5          0.006053  0.002920  0.002772  0.003028            -0.0 -0.008795  \n",
       "PC-6         -0.034128  0.003727  0.003541  0.254071            -0.0  0.082422  \n",
       "PC-7         -0.038056 -0.037034 -0.037351 -0.200236            -0.0 -0.137333  \n",
       "PC-8         -0.271640  0.020303  0.020929 -0.053740            -0.0 -0.115099  \n",
       "PC-9         -0.066676  0.000402  0.000620 -0.017054            -0.0 -0.018254  \n",
       "PC-10         0.715870  0.010381  0.009394  0.000261             0.0 -0.468166  \n",
       "\n",
       "[10 rows x 29 columns]"
      ]
     },
     "execution_count": 45,
     "metadata": {},
     "output_type": "execute_result"
    }
   ],
   "source": [
    "df_pca = pd.DataFrame(sklearn_pca.components_, columns=[\n",
    "       'DEPARTURES_SCHEDULED', 'DEPARTURES_PERFORMED', 'PAYLOAD', 'SEATS',\n",
    "       'PASSENGERS', 'FREIGHT', 'MAIL', 'DISTANCE', 'RAMP_TO_RAMP', 'AIR_TIME',\n",
    "       'UNIQUE_CARRIER_ENTITY', 'REGION', 'CARRIER_NAME', 'CARRIER_GROUP',\n",
    "       'CARRIER_GROUP_NEW', 'ORIGIN', 'ORIGIN_CITY_NAME', 'ORIGIN_STATE_NM',\n",
    "       'DEST', 'DEST_CITY_NAME', 'DEST_STATE_NM', 'AIRCRAFT_GROUP',\n",
    "       'AIRCRAFT_TYPE', 'AIRCRAFT_CONFIG', 'YEAR', 'QUARTER', 'MONTH',\n",
    "       'DISTANCE_GROUP', 'CLASS'],\n",
    "             index = ['PC-1','PC-2', 'PC-3', 'PC-4', 'PC-5', 'PC-6','PC-7', 'PC-8', 'PC-9', 'PC-10'])\n",
    "\n",
    "df_pca"
   ]
  },
  {
   "cell_type": "code",
   "execution_count": 46,
   "metadata": {},
   "outputs": [
    {
     "name": "stdout",
     "output_type": "stream",
     "text": [
      "DISTANCE                 4.170918e-01\n",
      "RAMP_TO_RAMP             4.073455e-01\n",
      "SEATS                    4.045573e-01\n",
      "PAYLOAD                  3.930382e-01\n",
      "DEPARTURES_PERFORMED     3.807304e-01\n",
      "DEPARTURES_SCHEDULED     3.695656e-01\n",
      "FREIGHT                  1.373548e-01\n",
      "MAIL                     1.163754e-01\n",
      "MONTH                    1.129502e-01\n",
      "PASSENGERS               1.066977e-01\n",
      "REGION                   3.426831e-02\n",
      "AIR_TIME                 2.923648e-02\n",
      "ORIGIN_STATE_NM          1.879675e-02\n",
      "DEST                     1.760947e-02\n",
      "ORIGIN                   1.393798e-02\n",
      "CARRIER_GROUP_NEW        1.300664e-02\n",
      "YEAR                     5.628393e-03\n",
      "QUARTER                  5.084966e-03\n",
      "DEST_STATE_NM            3.481885e-03\n",
      "CARRIER_NAME             0.000000e+00\n",
      "DISTANCE_GROUP           0.000000e+00\n",
      "AIRCRAFT_TYPE            0.000000e+00\n",
      "CARRIER_GROUP           -1.232595e-32\n",
      "UNIQUE_CARRIER_ENTITY   -2.019484e-28\n",
      "CLASS                   -6.788418e-04\n",
      "AIRCRAFT_GROUP          -1.033508e-02\n",
      "AIRCRAFT_CONFIG         -1.219730e-02\n",
      "ORIGIN_CITY_NAME        -1.534466e-02\n",
      "DEST_CITY_NAME          -1.597656e-02\n",
      "Name: PC-1, dtype: float64\n",
      "MONTH                    5.466293e-01\n",
      "MAIL                     5.464366e-01\n",
      "ORIGIN                   2.321364e-01\n",
      "DEST                     2.255433e-01\n",
      "CARRIER_GROUP_NEW        2.184323e-01\n",
      "ORIGIN_STATE_NM          2.124352e-01\n",
      "FREIGHT                  1.460006e-01\n",
      "CLASS                    1.206128e-01\n",
      "PASSENGERS               1.166722e-01\n",
      "AIR_TIME                 9.545422e-02\n",
      "RAMP_TO_RAMP             9.254072e-02\n",
      "REGION                   8.862541e-02\n",
      "DEST_STATE_NM            8.609108e-02\n",
      "DISTANCE                 4.088140e-02\n",
      "AIRCRAFT_CONFIG          1.194091e-02\n",
      "QUARTER                  4.399777e-04\n",
      "CARRIER_NAME             1.323489e-23\n",
      "CARRIER_GROUP            8.271806e-25\n",
      "AIRCRAFT_TYPE           -0.000000e+00\n",
      "DISTANCE_GROUP          -0.000000e+00\n",
      "UNIQUE_CARRIER_ENTITY   -8.470329e-22\n",
      "YEAR                    -2.963395e-05\n",
      "AIRCRAFT_GROUP          -2.691896e-02\n",
      "DEST_CITY_NAME          -3.179347e-02\n",
      "ORIGIN_CITY_NAME        -3.982604e-02\n",
      "PAYLOAD                 -6.793664e-02\n",
      "SEATS                   -8.652107e-02\n",
      "DEPARTURES_SCHEDULED    -2.265578e-01\n",
      "DEPARTURES_PERFORMED    -2.324266e-01\n",
      "Name: PC-2, dtype: float64\n",
      "YEAR                     7.040380e-01\n",
      "QUARTER                  7.040120e-01\n",
      "AIRCRAFT_GROUP           5.088292e-02\n",
      "DEST_STATE_NM            4.948498e-02\n",
      "FREIGHT                  2.272834e-02\n",
      "PASSENGERS               1.503191e-02\n",
      "CLASS                    1.444538e-02\n",
      "AIR_TIME                 1.023892e-02\n",
      "ORIGIN_CITY_NAME         1.010199e-02\n",
      "DEST_CITY_NAME           7.196903e-03\n",
      "CARRIER_GROUP_NEW        6.255095e-03\n",
      "AIRCRAFT_CONFIG          6.061005e-03\n",
      "ORIGIN                   5.258495e-03\n",
      "PAYLOAD                  3.305548e-03\n",
      "SEATS                    1.613339e-03\n",
      "ORIGIN_STATE_NM          1.575526e-03\n",
      "DISTANCE_GROUP          -0.000000e+00\n",
      "CARRIER_NAME            -0.000000e+00\n",
      "AIRCRAFT_TYPE           -0.000000e+00\n",
      "CARRIER_GROUP           -3.388132e-21\n",
      "UNIQUE_CARRIER_ENTITY   -8.673617e-19\n",
      "DEST                    -5.968243e-05\n",
      "DEPARTURES_SCHEDULED    -3.339702e-03\n",
      "DEPARTURES_PERFORMED    -4.903849e-03\n",
      "DISTANCE                -8.426145e-03\n",
      "MONTH                   -8.517935e-03\n",
      "MAIL                    -9.228001e-03\n",
      "RAMP_TO_RAMP            -9.376066e-03\n",
      "REGION                  -4.448072e-02\n",
      "Name: PC-3, dtype: float64\n",
      "DEST_STATE_NM            3.926490e-01\n",
      "AIRCRAFT_GROUP           3.330793e-01\n",
      "AIRCRAFT_CONFIG          8.256153e-02\n",
      "MONTH                    5.848103e-02\n",
      "MAIL                     5.287771e-02\n",
      "PASSENGERS               5.223258e-02\n",
      "PAYLOAD                  3.843443e-02\n",
      "ORIGIN                   3.712869e-02\n",
      "RAMP_TO_RAMP             2.710910e-02\n",
      "DISTANCE                 2.548529e-02\n",
      "CARRIER_GROUP_NEW        1.547595e-02\n",
      "ORIGIN_CITY_NAME         1.095445e-02\n",
      "DEST                     7.210347e-03\n",
      "SEATS                    6.297606e-03\n",
      "DEST_CITY_NAME           1.621267e-03\n",
      "CARRIER_NAME             8.673617e-19\n",
      "AIRCRAFT_TYPE            0.000000e+00\n",
      "DISTANCE_GROUP           0.000000e+00\n",
      "CARRIER_GROUP           -1.084202e-19\n",
      "UNIQUE_CARRIER_ENTITY   -1.387779e-17\n",
      "CLASS                   -6.944789e-03\n",
      "DEPARTURES_PERFORMED    -9.311331e-03\n",
      "FREIGHT                 -1.286128e-02\n",
      "ORIGIN_STATE_NM         -1.464642e-02\n",
      "DEPARTURES_SCHEDULED    -3.069669e-02\n",
      "QUARTER                 -4.070301e-02\n",
      "YEAR                    -4.072507e-02\n",
      "AIR_TIME                -5.875831e-01\n",
      "REGION                  -6.036588e-01\n",
      "Name: PC-4, dtype: float64\n",
      "DEST                     5.083407e-01\n",
      "ORIGIN_STATE_NM          4.909233e-01\n",
      "DEST_CITY_NAME           1.175692e-01\n",
      "AIRCRAFT_GROUP           1.175679e-02\n",
      "DEST_STATE_NM            9.820206e-03\n",
      "AIRCRAFT_CONFIG          6.052705e-03\n",
      "RAMP_TO_RAMP             3.769644e-03\n",
      "MAIL                     3.322556e-03\n",
      "MONTH                    3.028013e-03\n",
      "YEAR                     2.920483e-03\n",
      "QUARTER                  2.771978e-03\n",
      "DISTANCE                 1.058359e-03\n",
      "UNIQUE_CARRIER_ENTITY    6.938894e-18\n",
      "CARRIER_GROUP            5.421011e-20\n",
      "AIRCRAFT_TYPE           -0.000000e+00\n",
      "DISTANCE_GROUP          -0.000000e+00\n",
      "CARRIER_NAME            -4.336809e-19\n",
      "DEPARTURES_PERFORMED    -1.657772e-03\n",
      "DEPARTURES_SCHEDULED    -2.124985e-03\n",
      "PAYLOAD                 -2.887764e-03\n",
      "SEATS                   -3.644991e-03\n",
      "CLASS                   -8.794506e-03\n",
      "FREIGHT                 -9.326758e-03\n",
      "PASSENGERS              -1.077969e-02\n",
      "AIR_TIME                -1.800700e-02\n",
      "REGION                  -1.937589e-02\n",
      "ORIGIN_CITY_NAME        -1.203512e-01\n",
      "CARRIER_GROUP_NEW       -4.764868e-01\n",
      "ORIGIN                  -4.938676e-01\n",
      "Name: PC-5, dtype: float64\n",
      "MONTH                    2.540709e-01\n",
      "MAIL                     2.486980e-01\n",
      "FREIGHT                  1.171223e-01\n",
      "PASSENGERS               1.155163e-01\n",
      "CLASS                    8.242241e-02\n",
      "REGION                   5.869934e-02\n",
      "DEST_STATE_NM            5.824621e-02\n",
      "RAMP_TO_RAMP             5.457175e-02\n",
      "DISTANCE                 3.143791e-02\n",
      "AIRCRAFT_GROUP           2.206395e-02\n",
      "AIR_TIME                 1.357272e-02\n",
      "YEAR                     3.726552e-03\n",
      "QUARTER                  3.541454e-03\n",
      "DISTANCE_GROUP          -0.000000e+00\n",
      "AIRCRAFT_TYPE           -0.000000e+00\n",
      "CARRIER_GROUP           -0.000000e+00\n",
      "CARRIER_NAME            -0.000000e+00\n",
      "UNIQUE_CARRIER_ENTITY   -5.551115e-17\n",
      "PAYLOAD                 -1.671578e-02\n",
      "SEATS                   -2.787493e-02\n",
      "AIRCRAFT_CONFIG         -3.412811e-02\n",
      "DEST_CITY_NAME          -9.785089e-02\n",
      "ORIGIN_CITY_NAME        -1.037997e-01\n",
      "DEPARTURES_PERFORMED    -1.058714e-01\n",
      "DEPARTURES_SCHEDULED    -1.115745e-01\n",
      "DEST                    -4.328140e-01\n",
      "ORIGIN_STATE_NM         -4.379613e-01\n",
      "ORIGIN                  -4.452253e-01\n",
      "CARRIER_GROUP_NEW       -4.523808e-01\n",
      "Name: PC-6, dtype: float64\n",
      "FREIGHT                  5.162838e-01\n",
      "PASSENGERS               5.005820e-01\n",
      "DEST_STATE_NM            3.669978e-01\n",
      "AIRCRAFT_GROUP           3.287230e-01\n",
      "AIR_TIME                 2.268049e-01\n",
      "REGION                   1.993754e-01\n",
      "PAYLOAD                  8.866799e-02\n",
      "DEST_CITY_NAME           4.852390e-02\n",
      "CARRIER_GROUP_NEW        4.472897e-02\n",
      "SEATS                    4.112412e-02\n",
      "ORIGIN_STATE_NM          4.016522e-02\n",
      "DEST                     2.387526e-02\n",
      "ORIGIN                   1.180816e-02\n",
      "CARRIER_NAME             1.110223e-16\n",
      "AIRCRAFT_TYPE           -0.000000e+00\n",
      "DISTANCE_GROUP          -0.000000e+00\n",
      "CARRIER_GROUP           -5.551115e-17\n",
      "UNIQUE_CARRIER_ENTITY   -1.110223e-16\n",
      "ORIGIN_CITY_NAME        -1.188737e-02\n",
      "YEAR                    -3.703420e-02\n",
      "QUARTER                 -3.735122e-02\n",
      "AIRCRAFT_CONFIG         -3.805588e-02\n",
      "DEPARTURES_PERFORMED    -6.635759e-02\n",
      "DEPARTURES_SCHEDULED    -7.147514e-02\n",
      "DISTANCE                -1.084889e-01\n",
      "RAMP_TO_RAMP            -1.165461e-01\n",
      "CLASS                   -1.373327e-01\n",
      "MAIL                    -1.858084e-01\n",
      "MONTH                   -2.002355e-01\n",
      "Name: PC-7, dtype: float64\n",
      "PASSENGERS               4.623611e-01\n",
      "FREIGHT                  2.080999e-01\n",
      "PAYLOAD                  7.596920e-02\n",
      "SEATS                    4.322894e-02\n",
      "CARRIER_GROUP_NEW        3.652269e-02\n",
      "DEST                     2.514388e-02\n",
      "ORIGIN                   2.174541e-02\n",
      "QUARTER                  2.092866e-02\n",
      "YEAR                     2.030303e-02\n",
      "ORIGIN_STATE_NM          2.252923e-03\n",
      "CARRIER_NAME             1.110223e-16\n",
      "AIRCRAFT_TYPE           -0.000000e+00\n",
      "DISTANCE_GROUP          -0.000000e+00\n",
      "CARRIER_GROUP           -0.000000e+00\n",
      "UNIQUE_CARRIER_ENTITY   -0.000000e+00\n",
      "DEST_CITY_NAME          -1.945717e-02\n",
      "MAIL                    -4.824846e-02\n",
      "RAMP_TO_RAMP            -5.123416e-02\n",
      "MONTH                   -5.373985e-02\n",
      "DISTANCE                -6.240404e-02\n",
      "DEPARTURES_PERFORMED    -7.712154e-02\n",
      "DEPARTURES_SCHEDULED    -9.099895e-02\n",
      "CLASS                   -1.150988e-01\n",
      "ORIGIN_CITY_NAME        -2.033728e-01\n",
      "REGION                  -2.157144e-01\n",
      "AIRCRAFT_CONFIG         -2.716401e-01\n",
      "DEST_STATE_NM           -3.166875e-01\n",
      "AIR_TIME                -3.218181e-01\n",
      "AIRCRAFT_GROUP          -5.717105e-01\n",
      "Name: PC-8, dtype: float64\n",
      "ORIGIN_CITY_NAME         6.514584e-01\n",
      "ORIGIN_STATE_NM          1.686344e-01\n",
      "FREIGHT                  7.209775e-02\n",
      "PASSENGERS               5.643369e-02\n",
      "DEST                     1.276478e-02\n",
      "PAYLOAD                  5.925844e-03\n",
      "SEATS                    1.447474e-03\n",
      "QUARTER                  6.197348e-04\n",
      "YEAR                     4.023965e-04\n",
      "CARRIER_GROUP            5.551115e-17\n",
      "AIRCRAFT_TYPE           -0.000000e+00\n",
      "CARRIER_NAME            -0.000000e+00\n",
      "DISTANCE_GROUP          -0.000000e+00\n",
      "UNIQUE_CARRIER_ENTITY   -4.163336e-17\n",
      "RAMP_TO_RAMP            -2.649012e-03\n",
      "DISTANCE                -3.412429e-03\n",
      "ORIGIN                  -4.755366e-03\n",
      "REGION                  -1.433633e-02\n",
      "MAIL                    -1.662122e-02\n",
      "MONTH                   -1.705382e-02\n",
      "CLASS                   -1.825392e-02\n",
      "DEPARTURES_PERFORMED    -1.870717e-02\n",
      "DEPARTURES_SCHEDULED    -2.112768e-02\n",
      "DEST_STATE_NM           -2.169433e-02\n",
      "AIR_TIME                -3.888225e-02\n",
      "AIRCRAFT_GROUP          -5.916861e-02\n",
      "AIRCRAFT_CONFIG         -6.667646e-02\n",
      "CARRIER_GROUP_NEW       -1.506155e-01\n",
      "DEST_CITY_NAME          -7.099460e-01\n",
      "Name: PC-9, dtype: float64\n",
      "AIRCRAFT_CONFIG          7.158704e-01\n",
      "PAYLOAD                  4.517716e-02\n",
      "PASSENGERS               4.130076e-02\n",
      "CARRIER_GROUP_NEW        3.758366e-02\n",
      "ORIGIN_STATE_NM          3.686948e-02\n",
      "SEATS                    3.117752e-02\n",
      "AIR_TIME                 3.033509e-02\n",
      "MAIL                     2.482684e-02\n",
      "YEAR                     1.038094e-02\n",
      "QUARTER                  9.394281e-03\n",
      "REGION                   8.190374e-03\n",
      "MONTH                    2.605730e-04\n",
      "UNIQUE_CARRIER_ENTITY    1.457168e-16\n",
      "CARRIER_NAME             2.775558e-17\n",
      "AIRCRAFT_TYPE            0.000000e+00\n",
      "DISTANCE_GROUP           0.000000e+00\n",
      "CARRIER_GROUP           -2.775558e-17\n",
      "RAMP_TO_RAMP            -1.886688e-02\n",
      "ORIGIN                  -1.897094e-02\n",
      "DISTANCE                -2.240550e-02\n",
      "DEPARTURES_SCHEDULED    -2.288323e-02\n",
      "DEPARTURES_PERFORMED    -2.784889e-02\n",
      "DEST                    -2.834453e-02\n",
      "DEST_STATE_NM           -3.343428e-02\n",
      "FREIGHT                 -4.785280e-02\n",
      "AIRCRAFT_GROUP          -7.922465e-02\n",
      "ORIGIN_CITY_NAME        -3.400446e-01\n",
      "DEST_CITY_NAME          -3.611433e-01\n",
      "CLASS                   -4.681663e-01\n",
      "Name: PC-10, dtype: float64\n"
     ]
    }
   ],
   "source": [
    "# the first 2 pc take the top 5 features\n",
    "# for the rest of the pc's take the top 15 and take the most common 3-4 recurring features\n",
    "for each in df_pca.index:\n",
    "    print(df_pca.loc[each].sort_values(ascending=False))"
   ]
  },
  {
   "cell_type": "code",
   "execution_count": 48,
   "metadata": {},
   "outputs": [],
   "source": [
    "# Selected features that explain the most variance\n",
    "df_new = df[['DISTANCE', 'RAMP_TO_RAMP', 'SEATS', 'PAYLOAD', 'DEPARTURES_PERFORMED', \n",
    "             'MONTH', 'MAIL', 'CLASS', 'ORIGIN', 'DEST',\n",
    "            'YEAR', 'AIRCRAFT_GROUP', 'FREIGHT', 'AIRCRAFT_CONFIG',\n",
    "            'loadfactor_level', 'loadfactor_binned', 'High', 'Low', 'Medium',\n",
    "            'load_factor', 'per_cap', 'passenger_miles', 'seat_miles', 'PASSENGERS']]"
   ]
  },
  {
   "cell_type": "markdown",
   "metadata": {},
   "source": [
    "# Classifier Models--PCA"
   ]
  },
  {
   "cell_type": "markdown",
   "metadata": {},
   "source": [
    "KNN Classifier--Weighted"
   ]
  },
  {
   "cell_type": "code",
   "execution_count": 49,
   "metadata": {
    "collapsed": true
   },
   "outputs": [],
   "source": [
    "from sklearn import neighbors\n",
    "from sklearn.preprocessing import StandardScaler\n",
    "from sklearn.metrics import classification_report\n",
    "from sklearn.metrics import confusion_matrix\n",
    "from sklearn.model_selection import cross_val_score\n",
    "\n",
    "cat_var_ = [ 'ORIGIN', 'DEST', 'AIRCRAFT_GROUP', 'AIRCRAFT_CONFIG', 'YEAR', 'MONTH', 'CLASS']\n",
    "\n",
    "def knn_weighted(X, y, n, cvk):\n",
    "    for each in cat_var_:\n",
    "        le = LabelEncoder()\n",
    "        le_fit = le.fit(X[each])\n",
    "        le_transform = le.transform(df[each])\n",
    "        X[each] = le_transform\n",
    "    X = StandardScaler().fit_transform(X)\n",
    "    offset = int(X.shape[0] * 0.9)\n",
    "    X_train, y_train = X[:offset], y[:offset]\n",
    "    X_test, y_test = X[offset:], y[offset:]\n",
    "    knn = neighbors.KNeighborsClassifier(n_neighbors=n, weights='distance')\n",
    "    fit = knn.fit(X_train, y_train)\n",
    "    pred= knn.predict(X_test)\n",
    "    score = knn.score(X_test, y_test)\n",
    "    cm = confusion_matrix(y_test, pred)\n",
    "    fig, ax = plt.subplots()\n",
    "    im = ax.matshow(cm)\n",
    "    for (i, j), z in np.ndenumerate(cm):\n",
    "        ax.text(j, i, '{:0.1f}'.format(z), ha='center', va='center', \n",
    "                bbox=dict(boxstyle='round', facecolor='white', edgecolor='0.3'))\n",
    "    plt.title('Confusion matrix')\n",
    "    fig.colorbar(im)\n",
    "    plt.ylabel('True label')\n",
    "    plt.xlabel('Predicted label')\n",
    "    plt.show()\n",
    "    class_rep = classification_report(y_test, pred)\n",
    "    print('\\nClassification Report: \\n', class_rep)\n",
    "    print(\"Percent of CORRECTLY labeled points out of a total {} points : {}\".format(\n",
    "    len(y_test),\n",
    "    (1 - (y_test != pred).sum() / len(y_test)) * 100))"
   ]
  },
  {
   "cell_type": "code",
   "execution_count": 50,
   "metadata": {
    "collapsed": true
   },
   "outputs": [],
   "source": [
    "X = df_new.drop(['loadfactor_level', 'loadfactor_binned', 'High', 'Low', 'Medium',\n",
    "            'load_factor', 'per_cap', 'passenger_miles', 'seat_miles', 'PASSENGERS'], axis=1)\n",
    "y = df_new['loadfactor_level']"
   ]
  },
  {
   "cell_type": "code",
   "execution_count": 51,
   "metadata": {},
   "outputs": [
    {
     "data": {
      "image/png": "[encoded data removed]",
      "text/plain": [
       "<matplotlib.figure.Figure at 0x118338dd8>"
      ]
     },
     "metadata": {},
     "output_type": "display_data"
    },
    {
     "name": "stdout",
     "output_type": "stream",
     "text": [
      "\n",
      "Classification Report: \n",
      "              precision    recall  f1-score   support\n",
      "\n",
      "       High       0.40      0.25      0.31      6769\n",
      "        Low       0.54      0.44      0.48     12127\n",
      "     Medium       0.45      0.61      0.52     13423\n",
      "\n",
      "avg / total       0.47      0.47      0.46     32319\n",
      "\n",
      "Percent of CORRECTLY labeled points out of a total 32319 points : 46.959992574027666\n"
     ]
    }
   ],
   "source": [
    "knn_weighted(X, y, 10, 5)"
   ]
  },
  {
   "cell_type": "code",
   "execution_count": 52,
   "metadata": {
    "collapsed": true
   },
   "outputs": [],
   "source": [
    "from sklearn import ensemble\n",
    "\n",
    "def ranfor_class(X, y, n_est, max_dep, cvk):\n",
    "    offset = int(X.shape[0] * 0.9)\n",
    "    X_train, y_train = X[:offset], y[:offset]\n",
    "    X_test, y_test = X[offset:], y[offset:]\n",
    "    rfc = ensemble.RandomForestClassifier(n_estimators=n_est, max_depth=max_dep)\n",
    "    rfc_fit = rfc.fit(X_train, y_train)\n",
    "    rfc_pred = rfc.predict(X_test)\n",
    "    rfc_score = rfc.score(X_test, y_test)\n",
    "    cm = confusion_matrix(y_test, rfc_pred)\n",
    "    fig, ax = plt.subplots()\n",
    "    im = ax.matshow(cm)\n",
    "    for (i, j), z in np.ndenumerate(cm):\n",
    "        ax.text(j, i, '{:0.1f}'.format(z), ha='center', va='center', \n",
    "                bbox=dict(boxstyle='round', facecolor='white', edgecolor='0.3'))\n",
    "    plt.title('Confusion matrix')\n",
    "    fig.colorbar(im)\n",
    "    plt.ylabel('True label')\n",
    "    plt.xlabel('Predicted label')\n",
    "    plt.show()\n",
    "    class_rep = classification_report(y_test, rfc_pred)\n",
    "    print('\\nClassification Report: \\n', class_rep)\n",
    "    print(\"Percent of CORRECTLY labeled points out of a total {} points : {}\".format(\n",
    "    len(y_test),\n",
    "    (1 - (y_test != rfc_pred).sum() / len(y_test)) * 100))\n",
    "    # Make importances relative to max importance\n",
    "    feature_importance = rfc.feature_importances_\n",
    "    feature_importance = 100 * (feature_importance / feature_importance.max())\n",
    "    sorted_idx = np.argsort(feature_importance)\n",
    "    pos = np.arange(sorted_idx.shape[0]) +  0.5\n",
    "    plt.subplot(1, 2, 2)\n",
    "    plt.barh(pos, feature_importance[sorted_idx], align='center')\n",
    "    plt.yticks(pos, X.columns[sorted_idx])\n",
    "    plt.xlabel('Relative importance')\n",
    "    plt.ylabel('Variable importance')\n",
    "    plt.show()"
   ]
  },
  {
   "cell_type": "code",
   "execution_count": 53,
   "metadata": {},
   "outputs": [
    {
     "data": {
      "image/png": "[encoded data removed]",
      "text/plain": [
       "<matplotlib.figure.Figure at 0x11b9c0f60>"
      ]
     },
     "metadata": {},
     "output_type": "display_data"
    },
    {
     "name": "stdout",
     "output_type": "stream",
     "text": [
      "\n",
      "Classification Report: \n",
      "              precision    recall  f1-score   support\n",
      "\n",
      "       High       0.57      0.32      0.41      6769\n",
      "        Low       0.67      0.57      0.62     12127\n",
      "     Medium       0.50      0.68      0.58     13423\n",
      "\n",
      "avg / total       0.58      0.56      0.56     32319\n",
      "\n",
      "Percent of CORRECTLY labeled points out of a total 32319 points : 56.44357808100497\n"
     ]
    },
    {
     "data": {
      "image/png": "[encoded data removed]",
      "text/plain": [
       "<matplotlib.figure.Figure at 0x1191d3b70>"
      ]
     },
     "metadata": {},
     "output_type": "display_data"
    }
   ],
   "source": [
    "ranfor_class(X, y, 500, None, 5)"
   ]
  },
  {
   "cell_type": "code",
   "execution_count": 54,
   "metadata": {
    "collapsed": true
   },
   "outputs": [],
   "source": [
    "from sklearn import ensemble\n",
    "\n",
    "def ranfor_class_sampleweight(X, y, n_est, max_dep, sampleweight):\n",
    "    offset = int(X.shape[0] * 0.9)\n",
    "    X_train, y_train = X[:offset], y[:offset]\n",
    "    X_test, y_test = X[offset:], y[offset:]\n",
    "    rfc = ensemble.RandomForestClassifier(n_estimators=n_est, max_depth=max_dep)\n",
    "    rfc_fit = rfc.fit(X_train, y_train, sample_weight=sampleweight)\n",
    "    rfc_pred = rfc.predict(X_test)\n",
    "    rfc_score = rfc.score(X_test, y_test)\n",
    "    cm = confusion_matrix(y_test, rfc_pred)\n",
    "    fig, ax = plt.subplots()\n",
    "    im = ax.matshow(cm)\n",
    "    for (i, j), z in np.ndenumerate(cm):\n",
    "        ax.text(j, i, '{:0.1f}'.format(z), ha='center', va='center', \n",
    "                bbox=dict(boxstyle='round', facecolor='white', edgecolor='0.3'))\n",
    "    plt.title('Confusion matrix')\n",
    "    fig.colorbar(im)\n",
    "    plt.ylabel('True label')\n",
    "    plt.xlabel('Predicted label')\n",
    "    plt.show()\n",
    "    class_rep = classification_report(y_test, rfc_pred)\n",
    "    print('\\nClassification Report: \\n', class_rep)\n",
    "    print(\"Percent of CORRECTLY labeled points out of a total {} points : {}\".format(\n",
    "    len(y_test),\n",
    "    (1 - (y_test != rfc_pred).sum() / len(y_test)) * 100))\n",
    "    # Make importances relative to max importance\n",
    "    feature_importance = rfc.feature_importances_\n",
    "    feature_importance = 100 * (feature_importance / feature_importance.max())\n",
    "    sorted_idx = np.argsort(feature_importance)\n",
    "    pos = np.arange(sorted_idx.shape[0]) +  0.5\n",
    "    plt.subplot(1, 2, 2)\n",
    "    plt.barh(pos, feature_importance[sorted_idx], align='center')\n",
    "    plt.yticks(pos, X.columns[sorted_idx])\n",
    "    plt.xlabel('Relative importance')\n",
    "    plt.ylabel('Variable importance')\n",
    "    plt.show()"
   ]
  },
  {
   "cell_type": "code",
   "execution_count": 55,
   "metadata": {},
   "outputs": [
    {
     "data": {
      "image/png": "[encoded data removed]",
      "text/plain": [
       "<matplotlib.figure.Figure at 0x1186fc278>"
      ]
     },
     "metadata": {},
     "output_type": "display_data"
    },
    {
     "name": "stdout",
     "output_type": "stream",
     "text": [
      "\n",
      "Classification Report: \n",
      "              precision    recall  f1-score   support\n",
      "\n",
      "       High       0.57      0.32      0.41      6769\n",
      "        Low       0.67      0.57      0.61     12127\n",
      "     Medium       0.50      0.68      0.58     13423\n",
      "\n",
      "avg / total       0.58      0.56      0.56     32319\n",
      "\n",
      "Percent of CORRECTLY labeled points out of a total 32319 points : 56.412636529595595\n"
     ]
    },
    {
     "data": {
      "image/png": "[encoded data removed]",
      "text/plain": [
       "<matplotlib.figure.Figure at 0x11834b048>"
      ]
     },
     "metadata": {},
     "output_type": "display_data"
    }
   ],
   "source": [
    "ranfor_class(X, y, 500, None, [.6, .2, .2])"
   ]
  },
  {
   "cell_type": "code",
   "execution_count": 56,
   "metadata": {},
   "outputs": [
    {
     "data": {
      "image/png": "[encoded data removed]",
      "text/plain": [
       "<matplotlib.figure.Figure at 0x1192c7f60>"
      ]
     },
     "metadata": {},
     "output_type": "display_data"
    },
    {
     "name": "stdout",
     "output_type": "stream",
     "text": [
      "\n",
      "Classification Report: \n",
      "              precision    recall  f1-score   support\n",
      "\n",
      "       High       0.57      0.32      0.41      6769\n",
      "        Low       0.67      0.57      0.62     12127\n",
      "     Medium       0.50      0.68      0.58     13423\n",
      "\n",
      "avg / total       0.58      0.56      0.56     32319\n",
      "\n",
      "Percent of CORRECTLY labeled points out of a total 32319 points : 56.4528605464278\n"
     ]
    },
    {
     "data": {
      "image/png": "[encoded data removed]",
      "text/plain": [
       "<matplotlib.figure.Figure at 0x118773128>"
      ]
     },
     "metadata": {},
     "output_type": "display_data"
    }
   ],
   "source": [
    "ranfor_class(X, y, 500, None, [.8, .1, .1])"
   ]
  },
  {
   "cell_type": "code",
   "execution_count": 58,
   "metadata": {
    "collapsed": true
   },
   "outputs": [],
   "source": [
    "def gb_class(X, y, los, n, md):\n",
    "    offset = int(X.shape[0] * 0.9)\n",
    "    X_train, y_train = X[:offset], y[:offset]\n",
    "    X_test, y_test = X[offset:], y[offset:]\n",
    "    gbc = ensemble.GradientBoostingClassifier(loss=los, n_estimators=n, max_depth=md)\n",
    "    gbc_fit = gbc.fit(X_train, y_train)\n",
    "    gbc_pred = gbc.predict(X_test)\n",
    "    gbc_score = gbc.score(X_test, y_test)\n",
    "    cm = confusion_matrix(y_test, gbc_pred)\n",
    "    fig, ax = plt.subplots()\n",
    "    im = ax.matshow(cm)\n",
    "    for (i, j), z in np.ndenumerate(cm):\n",
    "        ax.text(j, i, '{:0.1f}'.format(z), ha='center', va='center', \n",
    "                bbox=dict(boxstyle='round', facecolor='white', edgecolor='0.3'))\n",
    "    plt.title('Confusion matrix')\n",
    "    fig.colorbar(im)\n",
    "    plt.ylabel('True label')\n",
    "    plt.xlabel('Predicted label')\n",
    "    plt.show()\n",
    "    class_rep = classification_report(y_test, gbc_pred)\n",
    "    print('\\nClassification Report: \\n', class_rep)\n",
    "    print(\"Percent of CORRECTLY labeled points out of a total {} points : {}\".format(\n",
    "    len(y_test),\n",
    "    (1 - (y_test != gbc_pred).sum() / len(y_test)) * 100\n",
    "))\n",
    "    \n",
    "    # Make importances relative to max importance\n",
    "    feature_importance = gbc.feature_importances_\n",
    "    feature_importance = 100 * (feature_importance / feature_importance.max())\n",
    "    sorted_idx = np.argsort(feature_importance)\n",
    "    pos = np.arange(sorted_idx.shape[0]) +  0.5\n",
    "    plt.subplot(1, 2, 2)\n",
    "    plt.barh(pos, feature_importance[sorted_idx], align='center')\n",
    "    plt.yticks(pos, X.columns[sorted_idx])\n",
    "    plt.xlabel('Relative importance')\n",
    "    plt.ylabel('Variable importance')\n",
    "    plt.show()"
   ]
  },
  {
   "cell_type": "code",
   "execution_count": 59,
   "metadata": {},
   "outputs": [
    {
     "data": {
      "image/png": "[encoded data removed]",
      "text/plain": [
       "<matplotlib.figure.Figure at 0x11854de48>"
      ]
     },
     "metadata": {},
     "output_type": "display_data"
    },
    {
     "name": "stdout",
     "output_type": "stream",
     "text": [
      "\n",
      "Classification Report: \n",
      "              precision    recall  f1-score   support\n",
      "\n",
      "       High       0.57      0.31      0.40      6769\n",
      "        Low       0.68      0.61      0.64     12127\n",
      "     Medium       0.51      0.68      0.58     13423\n",
      "\n",
      "avg / total       0.58      0.57      0.57     32319\n",
      "\n",
      "Percent of CORRECTLY labeled points out of a total 32319 points : 57.33778891673629\n"
     ]
    },
    {
     "data": {
      "image/png": "[encoded data removed]",
      "text/plain": [
       "<matplotlib.figure.Figure at 0x115c9f0f0>"
      ]
     },
     "metadata": {},
     "output_type": "display_data"
    }
   ],
   "source": [
    "gb_class(X, y, 'deviance', 500, 5)"
   ]
  },
  {
   "cell_type": "code",
   "execution_count": 60,
   "metadata": {
    "collapsed": true
   },
   "outputs": [],
   "source": [
    "def gb_class_sampweight(X, y, los, n, md, sampweight):\n",
    "    offset = int(X.shape[0] * 0.9)\n",
    "    X_train, y_train = X[:offset], y[:offset]\n",
    "    X_test, y_test = X[offset:], y[offset:]\n",
    "    gbc = ensemble.GradientBoostingClassifier(loss=los, n_estimators=n, max_depth=md)\n",
    "    gbc_fit = gbc.fit(X_train, y_train, sample_weight=sampweight)\n",
    "    gbc_pred = gbc.predict(X_test)\n",
    "    gbc_score = gbc.score(X_test, y_test)\n",
    "    cm = confusion_matrix(y_test, gbc_pred)\n",
    "    fig, ax = plt.subplots()\n",
    "    im = ax.matshow(cm)\n",
    "    for (i, j), z in np.ndenumerate(cm):\n",
    "        ax.text(j, i, '{:0.1f}'.format(z), ha='center', va='center', \n",
    "                bbox=dict(boxstyle='round', facecolor='white', edgecolor='0.3'))\n",
    "    plt.title('Confusion matrix')\n",
    "    fig.colorbar(im)\n",
    "    plt.ylabel('True label')\n",
    "    plt.xlabel('Predicted label')\n",
    "    plt.show()\n",
    "    class_rep = classification_report(y_test, gbc_pred)\n",
    "    print('\\nClassification Report: \\n', class_rep)\n",
    "    print(\"Percent of CORRECTLY labeled points out of a total {} points : {}\".format(\n",
    "    len(y_test),\n",
    "    (1 - (y_test != gbc_pred).sum() / len(y_test)) * 100\n",
    "))\n",
    "    \n",
    "    # Make importances relative to max importance\n",
    "    feature_importance = gbc.feature_importances_\n",
    "    feature_importance = 100 * (feature_importance / feature_importance.max())\n",
    "    sorted_idx = np.argsort(feature_importance)\n",
    "    pos = np.arange(sorted_idx.shape[0]) +  0.5\n",
    "    plt.subplot(1, 2, 2)\n",
    "    plt.barh(pos, feature_importance[sorted_idx], align='center')\n",
    "    plt.yticks(pos, X.columns[sorted_idx])\n",
    "    plt.xlabel('Relative importance')\n",
    "    plt.ylabel('Variable importance')\n",
    "    plt.show()"
   ]
  },
  {
   "cell_type": "code",
   "execution_count": 61,
   "metadata": {},
   "outputs": [
    {
     "ename": "ValueError",
     "evalue": "Found input variables with inconsistent numbers of samples: [290868, 290868, 3]",
     "output_type": "error",
     "traceback": [
      "\u001b[0;31m---------------------------------------------------------------------------\u001b[0m",
      "\u001b[0;31mValueError\u001b[0m                                Traceback (most recent call last)",
      "\u001b[0;32m<ipython-input-61-bf000213843a>\u001b[0m in \u001b[0;36m<module>\u001b[0;34m()\u001b[0m\n\u001b[0;32m----> 1\u001b[0;31m \u001b[0mgb_class_sampweight\u001b[0m\u001b[0;34m(\u001b[0m\u001b[0mX\u001b[0m\u001b[0;34m,\u001b[0m \u001b[0my\u001b[0m\u001b[0;34m,\u001b[0m \u001b[0;34m'deviance'\u001b[0m\u001b[0;34m,\u001b[0m \u001b[0;36m500\u001b[0m\u001b[0;34m,\u001b[0m \u001b[0;36m5\u001b[0m\u001b[0;34m,\u001b[0m \u001b[0;34m[\u001b[0m\u001b[0;36m.6\u001b[0m\u001b[0;34m,\u001b[0m \u001b[0;36m.2\u001b[0m\u001b[0;34m,\u001b[0m \u001b[0;36m.2\u001b[0m\u001b[0;34m]\u001b[0m\u001b[0;34m)\u001b[0m\u001b[0;34m\u001b[0m\u001b[0m\n\u001b[0m",
      "\u001b[0;32m<ipython-input-60-6c53536332d7>\u001b[0m in \u001b[0;36mgb_class_sampweight\u001b[0;34m(X, y, los, n, md, sampweight)\u001b[0m\n\u001b[1;32m      4\u001b[0m     \u001b[0mX_test\u001b[0m\u001b[0;34m,\u001b[0m \u001b[0my_test\u001b[0m \u001b[0;34m=\u001b[0m \u001b[0mX\u001b[0m\u001b[0;34m[\u001b[0m\u001b[0moffset\u001b[0m\u001b[0;34m:\u001b[0m\u001b[0;34m]\u001b[0m\u001b[0;34m,\u001b[0m \u001b[0my\u001b[0m\u001b[0;34m[\u001b[0m\u001b[0moffset\u001b[0m\u001b[0;34m:\u001b[0m\u001b[0;34m]\u001b[0m\u001b[0;34m\u001b[0m\u001b[0m\n\u001b[1;32m      5\u001b[0m     \u001b[0mgbc\u001b[0m \u001b[0;34m=\u001b[0m \u001b[0mensemble\u001b[0m\u001b[0;34m.\u001b[0m\u001b[0mGradientBoostingClassifier\u001b[0m\u001b[0;34m(\u001b[0m\u001b[0mloss\u001b[0m\u001b[0;34m=\u001b[0m\u001b[0mlos\u001b[0m\u001b[0;34m,\u001b[0m \u001b[0mn_estimators\u001b[0m\u001b[0;34m=\u001b[0m\u001b[0mn\u001b[0m\u001b[0;34m,\u001b[0m \u001b[0mmax_depth\u001b[0m\u001b[0;34m=\u001b[0m\u001b[0mmd\u001b[0m\u001b[0;34m)\u001b[0m\u001b[0;34m\u001b[0m\u001b[0m\n\u001b[0;32m----> 6\u001b[0;31m     \u001b[0mgbc_fit\u001b[0m \u001b[0;34m=\u001b[0m \u001b[0mgbc\u001b[0m\u001b[0;34m.\u001b[0m\u001b[0mfit\u001b[0m\u001b[0;34m(\u001b[0m\u001b[0mX_train\u001b[0m\u001b[0;34m,\u001b[0m \u001b[0my_train\u001b[0m\u001b[0;34m,\u001b[0m \u001b[0msample_weight\u001b[0m\u001b[0;34m=\u001b[0m\u001b[0msampweight\u001b[0m\u001b[0;34m)\u001b[0m\u001b[0;34m\u001b[0m\u001b[0m\n\u001b[0m\u001b[1;32m      7\u001b[0m     \u001b[0mgbc_pred\u001b[0m \u001b[0;34m=\u001b[0m \u001b[0mgbc\u001b[0m\u001b[0;34m.\u001b[0m\u001b[0mpredict\u001b[0m\u001b[0;34m(\u001b[0m\u001b[0mX_test\u001b[0m\u001b[0;34m)\u001b[0m\u001b[0;34m\u001b[0m\u001b[0m\n\u001b[1;32m      8\u001b[0m     \u001b[0mgbc_score\u001b[0m \u001b[0;34m=\u001b[0m \u001b[0mgbc\u001b[0m\u001b[0;34m.\u001b[0m\u001b[0mscore\u001b[0m\u001b[0;34m(\u001b[0m\u001b[0mX_test\u001b[0m\u001b[0;34m,\u001b[0m \u001b[0my_test\u001b[0m\u001b[0;34m)\u001b[0m\u001b[0;34m\u001b[0m\u001b[0m\n",
      "\u001b[0;32m/anaconda/lib/python3.6/site-packages/sklearn/ensemble/gradient_boosting.py\u001b[0m in \u001b[0;36mfit\u001b[0;34m(self, X, y, sample_weight, monitor)\u001b[0m\n\u001b[1;32m    978\u001b[0m             \u001b[0msample_weight\u001b[0m \u001b[0;34m=\u001b[0m \u001b[0mcolumn_or_1d\u001b[0m\u001b[0;34m(\u001b[0m\u001b[0msample_weight\u001b[0m\u001b[0;34m,\u001b[0m \u001b[0mwarn\u001b[0m\u001b[0;34m=\u001b[0m\u001b[0;32mTrue\u001b[0m\u001b[0;34m)\u001b[0m\u001b[0;34m\u001b[0m\u001b[0m\n\u001b[1;32m    979\u001b[0m \u001b[0;34m\u001b[0m\u001b[0m\n\u001b[0;32m--> 980\u001b[0;31m         \u001b[0mcheck_consistent_length\u001b[0m\u001b[0;34m(\u001b[0m\u001b[0mX\u001b[0m\u001b[0;34m,\u001b[0m \u001b[0my\u001b[0m\u001b[0;34m,\u001b[0m \u001b[0msample_weight\u001b[0m\u001b[0;34m)\u001b[0m\u001b[0;34m\u001b[0m\u001b[0m\n\u001b[0m\u001b[1;32m    981\u001b[0m \u001b[0;34m\u001b[0m\u001b[0m\n\u001b[1;32m    982\u001b[0m         \u001b[0my\u001b[0m \u001b[0;34m=\u001b[0m \u001b[0mself\u001b[0m\u001b[0;34m.\u001b[0m\u001b[0m_validate_y\u001b[0m\u001b[0;34m(\u001b[0m\u001b[0my\u001b[0m\u001b[0;34m)\u001b[0m\u001b[0;34m\u001b[0m\u001b[0m\n",
      "\u001b[0;32m/anaconda/lib/python3.6/site-packages/sklearn/utils/validation.py\u001b[0m in \u001b[0;36mcheck_consistent_length\u001b[0;34m(*arrays)\u001b[0m\n\u001b[1;32m    179\u001b[0m     \u001b[0;32mif\u001b[0m \u001b[0mlen\u001b[0m\u001b[0;34m(\u001b[0m\u001b[0muniques\u001b[0m\u001b[0;34m)\u001b[0m \u001b[0;34m>\u001b[0m \u001b[0;36m1\u001b[0m\u001b[0;34m:\u001b[0m\u001b[0;34m\u001b[0m\u001b[0m\n\u001b[1;32m    180\u001b[0m         raise ValueError(\"Found input variables with inconsistent numbers of\"\n\u001b[0;32m--> 181\u001b[0;31m                          \" samples: %r\" % [int(l) for l in lengths])\n\u001b[0m\u001b[1;32m    182\u001b[0m \u001b[0;34m\u001b[0m\u001b[0m\n\u001b[1;32m    183\u001b[0m \u001b[0;34m\u001b[0m\u001b[0m\n",
      "\u001b[0;31mValueError\u001b[0m: Found input variables with inconsistent numbers of samples: [290868, 290868, 3]"
     ]
    }
   ],
   "source": [
    "gb_class_sampweight(X, y, 'deviance', 500, 5, [.6, .2, .2])"
   ]
  },
  {
   "cell_type": "code",
   "execution_count": null,
   "metadata": {
    "collapsed": true
   },
   "outputs": [],
   "source": []
  }
 ],
 "metadata": {
  "kernelspec": {
   "display_name": "Python 3",
   "language": "python",
   "name": "python3"
  },
  "language_info": {
   "codemirror_mode": {
    "name": "ipython",
    "version": 3
   },
   "file_extension": ".py",
   "mimetype": "text/x-python",
   "name": "python",
   "nbconvert_exporter": "python",
   "pygments_lexer": "ipython3",
   "version": "3.6.1"
  }
 },
 "nbformat": 4,
 "nbformat_minor": 2
}
